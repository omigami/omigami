{
 "cells": [
  {
   "cell_type": "markdown",
   "metadata": {},
   "source": [
    "# MS2DeepScore API – Quickstart\n",
    "\n",
    "*In order to use omigami, you need an access token provided by DataRevenue.*\n",
    "## Introduction\n",
    "\n",
    "This is a short guide on how you can add GNPS library matches to your mass spectra by their Tanimoto Score - using Omigami's MS2DeepScore API.\n",
    "\n",
    "The API uses a MS2DeepScore model which was trained on > 100,000 MS/MS spectra from GNPS. It prepares the input spectra and using a Siamese neural network predicts the molecular structural similarity (Tanimoto score) of the input spectra with the GNPS library spectra. It then returns you the top library matches for each of your spectra.\n",
    "\n",
    "This notebook shows you how to:\n",
    "1. Specify any MGF file with two spectra.\n",
    "2. Run a library search through the MS2DeepScore API\n",
    "3. Save the results as XLSX."
   ]
  },
  {
   "cell_type": "markdown",
   "metadata": {},
   "source": [
    "# 1. Load a MS/MS dataset (MGF format)\n",
    "\n",
    "We'll use a small MS/MS dataset in the MGF format from [here](https://gnps-external.ucsd.edu/gnpslibrary/GNPS-COLLECTIONS-MISC.mgf).\n",
    "You can also select any other from the [GNPS spectral library](https://gnps-external.ucsd.edu/gnpslibrary), or - of course - use your own.\n",
    "\n",
    "*Note that you will need the Precursor_MZ field `PEPMASS` and the abundance pairs in your MGF file.*"
   ]
  },
  {
   "cell_type": "code",
   "execution_count": 1,
   "metadata": {
    "id": "cHX57WiaVX_o"
   },
   "outputs": [],
   "source": [
    "# Load your own MS/MS dataset\n",
    "path_to_mgf = 'GNPS-2-SPECTRA.mgf'"
   ]
  },
  {
   "cell_type": "code",
   "execution_count": null,
   "metadata": {},
   "outputs": [],
   "source": [
    "# OR download a small MS/MS dataset from GNPS, in the same directory as this notebook\n",
    "import urllib.request\n",
    "\n",
    "url = 'https://gnps-external.ucsd.edu/gnpslibrary/GNPS-COLLECTIONS-MISC.mgf'\n",
    "\n",
    "path_to_mgf = f'GNPS-COLLECTIONS-MISC.mgf' # use your prefered saving path here\n",
    "\n",
    "urllib.request.urlretrieve(url, path_to_mgf)"
   ]
  },
  {
   "cell_type": "markdown",
   "metadata": {},
   "source": [
    "# 2. Query for the best matches with MS2DeepScore\n",
    "\n",
    "`MS2DeepScore` is a python wrapper which :\n",
    "- Builds a json payload from the MGF file\n",
    "- Calls the MS2DeepScores API\n",
    "- Formats the prediction results into readable dataframes\n",
    "\n",
    "____\n",
    "- `n_best` sets the number of matches you'd like per spectrum (it is set to 10 by default).\n",
    "- `include_metadata` selects the metadata fields that will be displayed in the resulting top matches.\n",
    "\n",
    "In the results dataframes, the input spectra can be identified by their number in the dataframes index, which refers to their order in the MGF file.  \n",
    "*i.e.* `matches of spectrum 1` gives the spectrum_id and MS2DeepScore scores of the library spectra matches, for the first spectrum in the MGF file.\n",
    "\n",
    "For each spectrum in the MGF file, the library spectra matches are sorted according to their MS2DeepScore similarity score (best is first).   \n",
    "The following information about the predicted spectra are returned :\n",
    "- `score`, the MS2DeepScore similarity score between the input spectrum and the library spectrum\n",
    "- `matches of spectrum #`, the spectrum_ID of the matched library spectra for the spectrum number # in the MGF file\n",
    "- `metadata`, metadata fields chosen with `include_metadata` in the input"
   ]
  },
  {
   "cell_type": "code",
   "execution_count": 2,
   "metadata": {
    "id": "fLx7vmXRIjIg"
   },
   "outputs": [],
   "source": [
    "from omigami import MS2DeepScore"
   ]
  },
  {
   "cell_type": "code",
   "execution_count": 3,
   "metadata": {
    "id": "BHMpFDN2Pq8Z"
   },
   "outputs": [],
   "source": [
    "# Initialize the client with your user token\n",
    "ms2deepscore = MS2DeepScore(token=\"Kb2G37qka7lRXn9kyTi1H8GJTGVVBSJZ\")\n",
    "ms2deepscore._endpoint_url = \"https://mlops.datarevenue.com/seldon/seldon/ms2deepscore/api/v0.1/predictions\""
   ]
  },
  {
   "cell_type": "code",
   "execution_count": 4,
   "metadata": {},
   "outputs": [],
   "source": [
    "# Run MS2DeepScore prediction\n",
    "spectra_matches = ms2deepscore.match_spectra_from_path(\n",
    "    path_to_mgf, \n",
    "    n_best=10, \n",
    "    include_metadata=[\"Smiles\", \"Compound_name\"]\n",
    ")"
   ]
  },
  {
   "cell_type": "markdown",
   "metadata": {},
   "source": [
    "## 2.1 View results\n",
    "A list of dataframes is returned. To look at a specific dataframe you can call :\n",
    "```python\n",
    "ms2deepscore_matches[i]  # 'i' refers to the (i+1)th spectrum in the MGF file input\n",
    "```"
   ]
  },
  {
   "cell_type": "code",
   "execution_count": 7,
   "metadata": {},
   "outputs": [
    {
     "data": {
      "text/html": [
       "<div>\n",
       "<style scoped>\n",
       "    .dataframe tbody tr th:only-of-type {\n",
       "        vertical-align: middle;\n",
       "    }\n",
       "\n",
       "    .dataframe tbody tr th {\n",
       "        vertical-align: top;\n",
       "    }\n",
       "\n",
       "    .dataframe thead th {\n",
       "        text-align: right;\n",
       "    }\n",
       "</style>\n",
       "<table border=\"1\" class=\"dataframe\">\n",
       "  <thead>\n",
       "    <tr style=\"text-align: right;\">\n",
       "      <th></th>\n",
       "      <th>Compound_name</th>\n",
       "      <th>Smiles</th>\n",
       "      <th>score</th>\n",
       "    </tr>\n",
       "    <tr>\n",
       "      <th>matches of spectrum-1</th>\n",
       "      <th></th>\n",
       "      <th></th>\n",
       "      <th></th>\n",
       "    </tr>\n",
       "  </thead>\n",
       "  <tbody>\n",
       "    <tr>\n",
       "      <th>CCMSLIB00001058177</th>\n",
       "      <td>Eicosanoids_ResolvinD1_C22H32O5</td>\n",
       "      <td></td>\n",
       "      <td>1</td>\n",
       "    </tr>\n",
       "    <tr>\n",
       "      <th>CCMSLIB00005942453</th>\n",
       "      <td>tricosanoic acid</td>\n",
       "      <td>O=C(O)CCCCCCCCCCCCCCCCCCCCCC</td>\n",
       "      <td>0.874242</td>\n",
       "    </tr>\n",
       "    <tr>\n",
       "      <th>CCMSLIB00005942475</th>\n",
       "      <td>tricosanoic acid</td>\n",
       "      <td>O=C(O)CCCCCCCCCCCCCCCCCCCCCC</td>\n",
       "      <td>0.869116</td>\n",
       "    </tr>\n",
       "    <tr>\n",
       "      <th>CCMSLIB00005942497</th>\n",
       "      <td>tricosanoic acid</td>\n",
       "      <td>O=C(O)CCCCCCCCCCCCCCCCCCCCCC</td>\n",
       "      <td>0.869753</td>\n",
       "    </tr>\n",
       "    <tr>\n",
       "      <th>CCMSLIB00005942519</th>\n",
       "      <td>tricosanoic acid</td>\n",
       "      <td>O=C(O)CCCCCCCCCCCCCCCCCCCCCC</td>\n",
       "      <td>0.869084</td>\n",
       "    </tr>\n",
       "    <tr>\n",
       "      <th>CCMSLIB00005942562</th>\n",
       "      <td>tricosanoic acid</td>\n",
       "      <td>O=C(O)CCCCCCCCCCCCCCCCCCCCCC</td>\n",
       "      <td>0.843332</td>\n",
       "    </tr>\n",
       "    <tr>\n",
       "      <th>CCMSLIB00005942583</th>\n",
       "      <td>tricosanoic acid</td>\n",
       "      <td>O=C(O)CCCCCCCCCCCCCCCCCCCCCC</td>\n",
       "      <td>0.892375</td>\n",
       "    </tr>\n",
       "    <tr>\n",
       "      <th>CCMSLIB00005942627</th>\n",
       "      <td>tricosanoic acid</td>\n",
       "      <td>O=C(O)CCCCCCCCCCCCCCCCCCCCCC</td>\n",
       "      <td>0.852711</td>\n",
       "    </tr>\n",
       "    <tr>\n",
       "      <th>CCMSLIB00005942671</th>\n",
       "      <td>tricosanoic acid</td>\n",
       "      <td>O=C(O)CCCCCCCCCCCCCCCCCCCCCC</td>\n",
       "      <td>0.843608</td>\n",
       "    </tr>\n",
       "    <tr>\n",
       "      <th>CCMSLIB00005973365</th>\n",
       "      <td>Asarinin</td>\n",
       "      <td>O1C2=CC=C(C=C2OC1)C3OCC4C(OCC34)C5=CC=C6OCOC6=C5</td>\n",
       "      <td>0.886544</td>\n",
       "    </tr>\n",
       "  </tbody>\n",
       "</table>\n",
       "</div>"
      ],
      "text/plain": [
       "                                         Compound_name  \\\n",
       "matches of spectrum-1                                    \n",
       "CCMSLIB00001058177     Eicosanoids_ResolvinD1_C22H32O5   \n",
       "CCMSLIB00005942453                    tricosanoic acid   \n",
       "CCMSLIB00005942475                    tricosanoic acid   \n",
       "CCMSLIB00005942497                    tricosanoic acid   \n",
       "CCMSLIB00005942519                    tricosanoic acid   \n",
       "CCMSLIB00005942562                    tricosanoic acid   \n",
       "CCMSLIB00005942583                    tricosanoic acid   \n",
       "CCMSLIB00005942627                    tricosanoic acid   \n",
       "CCMSLIB00005942671                    tricosanoic acid   \n",
       "CCMSLIB00005973365                            Asarinin   \n",
       "\n",
       "                                                                 Smiles  \\\n",
       "matches of spectrum-1                                                     \n",
       "CCMSLIB00001058177                                                        \n",
       "CCMSLIB00005942453                         O=C(O)CCCCCCCCCCCCCCCCCCCCCC   \n",
       "CCMSLIB00005942475                         O=C(O)CCCCCCCCCCCCCCCCCCCCCC   \n",
       "CCMSLIB00005942497                         O=C(O)CCCCCCCCCCCCCCCCCCCCCC   \n",
       "CCMSLIB00005942519                         O=C(O)CCCCCCCCCCCCCCCCCCCCCC   \n",
       "CCMSLIB00005942562                         O=C(O)CCCCCCCCCCCCCCCCCCCCCC   \n",
       "CCMSLIB00005942583                         O=C(O)CCCCCCCCCCCCCCCCCCCCCC   \n",
       "CCMSLIB00005942627                         O=C(O)CCCCCCCCCCCCCCCCCCCCCC   \n",
       "CCMSLIB00005942671                         O=C(O)CCCCCCCCCCCCCCCCCCCCCC   \n",
       "CCMSLIB00005973365     O1C2=CC=C(C=C2OC1)C3OCC4C(OCC34)C5=CC=C6OCOC6=C5   \n",
       "\n",
       "                          score  \n",
       "matches of spectrum-1            \n",
       "CCMSLIB00001058177            1  \n",
       "CCMSLIB00005942453     0.874242  \n",
       "CCMSLIB00005942475     0.869116  \n",
       "CCMSLIB00005942497     0.869753  \n",
       "CCMSLIB00005942519     0.869084  \n",
       "CCMSLIB00005942562     0.843332  \n",
       "CCMSLIB00005942583     0.892375  \n",
       "CCMSLIB00005942627     0.852711  \n",
       "CCMSLIB00005942671     0.843608  \n",
       "CCMSLIB00005973365     0.886544  "
      ]
     },
     "execution_count": 7,
     "metadata": {},
     "output_type": "execute_result"
    }
   ],
   "source": [
    "spectra_matches[1]"
   ]
  },
  {
   "cell_type": "markdown",
   "metadata": {},
   "source": [
    "# 3. Save results\n",
    "\n",
    "Execute the following cell to save the results in an Excel file. For readability, each dataframe is saved in its own csv file under the matches directory."
   ]
  },
  {
   "cell_type": "code",
   "execution_count": 8,
   "metadata": {},
   "outputs": [],
   "source": [
    "import os\n",
    "os.makedirs(\"matches\", exist_ok=True)\n",
    "for i, spectrum_matches in enumerate(spectra_matches):\n",
    "    spectrum_matches.to_csv(f\"matches/spectrum_{i}.csv\")"
   ]
  },
  {
   "cell_type": "markdown",
   "metadata": {
    "id": "fxZC5erYIjIq"
   },
   "source": [
    "____"
   ]
  }
 ],
 "metadata": {
  "colab": {
   "collapsed_sections": [],
   "name": "MS2DeepScore predictions API documentation.ipynb",
   "provenance": []
  },
  "kernelspec": {
   "display_name": "Python 3",
   "language": "python",
   "name": "python3"
  },
  "language_info": {
   "codemirror_mode": {
    "name": "ipython",
    "version": 3
   },
   "file_extension": ".py",
   "mimetype": "text/x-python",
   "name": "python",
   "nbconvert_exporter": "python",
   "pygments_lexer": "ipython3",
   "version": "3.7.6"
  }
 },
 "nbformat": 4,
 "nbformat_minor": 4
}
