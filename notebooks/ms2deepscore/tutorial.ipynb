{
 "cells": [
  {
   "cell_type": "markdown",
   "metadata": {},
   "source": [
    "# MS2DeepScore API – Quickstart\n",
    "\n",
    "*In order to use omigami, you need an access token provided by DataRevenue.*\n",
    "## Introduction\n",
    "\n",
    "This is a short guide on how you can add GNPS library matches to your mass spectra by their Tanimoto Score - using Omigami's MS2DeepScore API.\n",
    "\n",
    "The API uses a MS2DeepScore model which was trained on > 100,000 MS/MS spectra from GNPS. It prepares the input spectra and using a Siamese neural network predicts the molecular structural similarity (Tanimoto score) of the input spectra with the GNPS library spectra. It then returns you the top library matches for each of your spectra.\n",
    "\n",
    "This notebook shows you how to:\n",
    "1. Specify any MGF file.\n",
    "2. Run a library search through the MS2DeepScore API\n",
    "3. Save the results as XLSX.\n",
    "\n",
    "**Before starting**, make sure you have an omigami.com account and have setup your credentials in your working machine like described [here](https://github.com/omigami/omigami#configuration)"
   ]
  },
  {
   "cell_type": "markdown",
   "metadata": {},
   "source": [
    "# 1. Load an MS/MS dataset (MGF format)\n",
    "\n",
    "We'll use a small MS/MS dataset in the MGF format from [here](https://gnps-external.ucsd.edu/gnpslibrary/GNPS-COLLECTIONS-MISC.mgf).\n",
    "You can also select any other from the [GNPS spectral library](https://gnps-external.ucsd.edu/gnpslibrary), or - of course - use your own.\n",
    "\n",
    "*Note that you will need either `Precursor_MZ` or `PEPMASS` fields and the abundance pairs in your MGF file.*"
   ]
  },
  {
   "cell_type": "code",
   "execution_count": 1,
   "metadata": {
    "id": "cHX57WiaVX_o"
   },
   "outputs": [],
   "source": [
    "# Load your own MS/MS dataset\n",
    "path_to_mgf = 'GNPS-2-SPECTRA.mgf'"
   ]
  },
  {
   "cell_type": "code",
   "execution_count": 2,
   "metadata": {},
   "outputs": [
    {
     "data": {
      "text/plain": [
       "('GNPS-COLLECTIONS-MISC.mgf', <http.client.HTTPMessage at 0x7ff4001b9490>)"
      ]
     },
     "execution_count": 2,
     "metadata": {},
     "output_type": "execute_result"
    }
   ],
   "source": [
    "# OR download a small MS/MS dataset from GNPS, in the same directory as this notebook\n",
    "import urllib.request\n",
    "\n",
    "url = 'https://gnps-external.ucsd.edu/gnpslibrary/GNPS-COLLECTIONS-MISC.mgf'\n",
    "\n",
    "path_to_mgf = f'GNPS-COLLECTIONS-MISC.mgf' # use your prefered saving path here\n",
    "\n",
    "urllib.request.urlretrieve(url, path_to_mgf)"
   ]
  },
  {
   "cell_type": "markdown",
   "metadata": {},
   "source": [
    "# 2. Query for the best matches with MS2DeepScore\n",
    "\n",
    "`MS2DeepScore` is a python wrapper which:\n",
    "- Builds a json payload from the MGF file\n",
    "- Calls the MS2DeepScores API\n",
    "- Formats the prediction results into readable dataframes\n",
    "\n",
    "____\n",
    "`match_spectra()` takes the following arguments:\n",
    "- `source` takes a string as a path to mgf file or a list of `matchms.Spectrum` objects.\n",
    "- `n_best` sets the number of matches you'd like per spectrum.\n",
    "- `ion_mode` selects the ionization mode of the measured spectra. (positive or negative)\n",
    "\n",
    "In the results dataframes, the input spectra can be identified by their number in the dataframes index, which refers to their order in the MGF file.  \n",
    "*i.e.* `matches of spectrum 1` gives the spectrum_id and MS2DeepScore scores of the library spectra matches, for the first spectrum in the MGF file.\n",
    "\n",
    "For each spectrum in the MGF file, the library spectra matches are sorted according to their MS2DeepScore similarity score (best is first).   \n",
    "The following information about the predicted spectra are returned :\n",
    "- `score`, the MS2DeepScore similarity score between the input spectrum and the library spectrum\n",
    "- `matches of spectrum #`, the spectrum_ID of the matched library spectra for the spectrum number # in the MGF file\n",
    "- `metadata`, all available metadata fields"
   ]
  },
  {
   "cell_type": "code",
   "execution_count": 3,
   "metadata": {
    "id": "fLx7vmXRIjIg"
   },
   "outputs": [],
   "source": [
    "from omigami.spectra_matching import MS2DeepScore"
   ]
  },
  {
   "cell_type": "code",
   "execution_count": 4,
   "metadata": {
    "id": "BHMpFDN2Pq8Z"
   },
   "outputs": [],
   "source": [
    "# Initialize the client\n",
    "ms2deepscore = MS2DeepScore()"
   ]
  },
  {
   "cell_type": "code",
   "execution_count": 5,
   "metadata": {},
   "outputs": [],
   "source": [
    "# Run MS2DeepScore prediction\n",
    "spectra_matches = ms2deepscore.match_spectra(\n",
    "    path_to_mgf, \n",
    "    n_best=10, \n",
    "    ion_mode=\"positive\",\n",
    ")"
   ]
  },
  {
   "cell_type": "markdown",
   "metadata": {},
   "source": [
    "## 2.1 View results\n",
    "A list of dataframes is returned. To look at a specific dataframe you can call:\n",
    "```python\n",
    "ms2deepscore_matches[i]  # 'i' refers to the index of the spectrum in the MGF file input\n",
    "```"
   ]
  },
  {
   "cell_type": "code",
   "execution_count": 6,
   "metadata": {},
   "outputs": [
    {
     "data": {
      "text/html": [
       "<div>\n",
       "<style scoped>\n",
       "    .dataframe tbody tr th:only-of-type {\n",
       "        vertical-align: middle;\n",
       "    }\n",
       "\n",
       "    .dataframe tbody tr th {\n",
       "        vertical-align: top;\n",
       "    }\n",
       "\n",
       "    .dataframe thead th {\n",
       "        text-align: right;\n",
       "    }\n",
       "</style>\n",
       "<table border=\"1\" class=\"dataframe\">\n",
       "  <thead>\n",
       "    <tr style=\"text-align: right;\">\n",
       "      <th></th>\n",
       "      <th>score</th>\n",
       "      <th>adduct</th>\n",
       "      <th>cas_number</th>\n",
       "      <th>charge</th>\n",
       "      <th>compound_name</th>\n",
       "      <th>compound_source</th>\n",
       "      <th>create_time</th>\n",
       "      <th>data_collector</th>\n",
       "      <th>exactmass</th>\n",
       "      <th>formula_inchi</th>\n",
       "      <th>...</th>\n",
       "      <th>source_file</th>\n",
       "      <th>spectrum_id</th>\n",
       "      <th>spectrum_status</th>\n",
       "      <th>spectrumid</th>\n",
       "      <th>splash</th>\n",
       "      <th>submit_user</th>\n",
       "      <th>task</th>\n",
       "      <th>task_id</th>\n",
       "      <th>url</th>\n",
       "      <th>user_id</th>\n",
       "    </tr>\n",
       "    <tr>\n",
       "      <th>matches of spectrum-0</th>\n",
       "      <th></th>\n",
       "      <th></th>\n",
       "      <th></th>\n",
       "      <th></th>\n",
       "      <th></th>\n",
       "      <th></th>\n",
       "      <th></th>\n",
       "      <th></th>\n",
       "      <th></th>\n",
       "      <th></th>\n",
       "      <th></th>\n",
       "      <th></th>\n",
       "      <th></th>\n",
       "      <th></th>\n",
       "      <th></th>\n",
       "      <th></th>\n",
       "      <th></th>\n",
       "      <th></th>\n",
       "      <th></th>\n",
       "      <th></th>\n",
       "      <th></th>\n",
       "    </tr>\n",
       "  </thead>\n",
       "  <tbody>\n",
       "    <tr>\n",
       "      <th>CCMSLIB00005725477</th>\n",
       "      <td>0.827757</td>\n",
       "      <td>M-2H2O+H</td>\n",
       "      <td>N/A</td>\n",
       "      <td>1</td>\n",
       "      <td>(3S,6'R)-6'-ethyl-1,6-dimethoxy-1,2-dihydro-10...</td>\n",
       "      <td>Isolated</td>\n",
       "      <td>2020-11-03 21:54:04.0</td>\n",
       "      <td>Luis Quiros-Guerrero</td>\n",
       "      <td>358.189</td>\n",
       "      <td>C20H26N2O4</td>\n",
       "      <td>...</td>\n",
       "      <td>MSV000086303/peak/PF017811_pos/200302_LQ_47344...</td>\n",
       "      <td>CCMSLIB00005725477</td>\n",
       "      <td>1</td>\n",
       "      <td>CCMSLIB00005725477</td>\n",
       "      <td>null-null-null-null</td>\n",
       "      <td>mpanitchpakdi</td>\n",
       "      <td>5c7943c413a14015969545069c9b9c83</td>\n",
       "      <td>5c7943c413a14015969545069c9b9c83</td>\n",
       "      <td>https://gnps.ucsd.edu/ProteoSAFe/gnpslibrarysp...</td>\n",
       "      <td>null</td>\n",
       "    </tr>\n",
       "    <tr>\n",
       "      <th>CCMSLIB00000424839</th>\n",
       "      <td>0.805503</td>\n",
       "      <td>M+H</td>\n",
       "      <td></td>\n",
       "      <td>1</td>\n",
       "      <td>Tjipanazole A1</td>\n",
       "      <td>Isolated</td>\n",
       "      <td>2015-02-04 11:15:03.0</td>\n",
       "      <td>Williams</td>\n",
       "      <td>470.08</td>\n",
       "      <td></td>\n",
       "      <td>...</td>\n",
       "      <td>f.philipwi/0_WilliamsFreshwaterCyanosStandards...</td>\n",
       "      <td>CCMSLIB00000424839</td>\n",
       "      <td>1</td>\n",
       "      <td>CCMSLIB00000424839</td>\n",
       "      <td>splash10-0umi-0309000000-0309000000</td>\n",
       "      <td>philipwi</td>\n",
       "      <td>aec2995b0184438285d50459f3dd1949</td>\n",
       "      <td>aec2995b0184438285d50459f3dd1949</td>\n",
       "      <td>https://gnps.ucsd.edu/ProteoSAFe/gnpslibrarysp...</td>\n",
       "      <td>null</td>\n",
       "    </tr>\n",
       "    <tr>\n",
       "      <th>CCMSLIB00000072245</th>\n",
       "      <td>0.786172</td>\n",
       "      <td>M+H</td>\n",
       "      <td>N/A</td>\n",
       "      <td>1</td>\n",
       "      <td>Riboflavin</td>\n",
       "      <td>Crude</td>\n",
       "      <td>2021-03-18 20:06:36.0</td>\n",
       "      <td>J Watrous</td>\n",
       "      <td>376.138</td>\n",
       "      <td>C17H20N4O6</td>\n",
       "      <td>...</td>\n",
       "      <td>Riboflavin_1H_LTQ_377_3188.mzXML</td>\n",
       "      <td>CCMSLIB00000072245</td>\n",
       "      <td>1</td>\n",
       "      <td>CCMSLIB00000072245</td>\n",
       "      <td>splash10-052f-0169000000-0169000000</td>\n",
       "      <td>jdwatrou</td>\n",
       "      <td>3bbf0c46eeeb406782b2f3cd0ad9b2b3</td>\n",
       "      <td>c6eb054dcd3e46ed9cdf97b14d322741</td>\n",
       "      <td>https://gnps.ucsd.edu/ProteoSAFe/gnpslibrarysp...</td>\n",
       "      <td>null</td>\n",
       "    </tr>\n",
       "    <tr>\n",
       "      <th>CCMSLIB00000478500</th>\n",
       "      <td>0.780126</td>\n",
       "      <td>2M+H</td>\n",
       "      <td>360765-74-8</td>\n",
       "      <td>1</td>\n",
       "      <td>Stephacidin A_130074</td>\n",
       "      <td>Isolated</td>\n",
       "      <td>2015-05-12 15:08:32.0</td>\n",
       "      <td>Luzzatto</td>\n",
       "      <td>431.221</td>\n",
       "      <td></td>\n",
       "      <td>...</td>\n",
       "      <td>P2_C5_conc_GE5_01_2423.mzXML</td>\n",
       "      <td>CCMSLIB00000478500</td>\n",
       "      <td>1</td>\n",
       "      <td>CCMSLIB00000478500</td>\n",
       "      <td>splash10-001i-0000900000-0000900000</td>\n",
       "      <td>tal_lk</td>\n",
       "      <td>d8fa66096dfb40cab2074831aacb390d</td>\n",
       "      <td>d8fa66096dfb40cab2074831aacb390d</td>\n",
       "      <td>https://gnps.ucsd.edu/ProteoSAFe/gnpslibrarysp...</td>\n",
       "      <td>null</td>\n",
       "    </tr>\n",
       "    <tr>\n",
       "      <th>CCMSLIB00000425025</th>\n",
       "      <td>0.779433</td>\n",
       "      <td>M+H</td>\n",
       "      <td>148473-00-1</td>\n",
       "      <td>1</td>\n",
       "      <td>Hymenamide B</td>\n",
       "      <td>Isolated</td>\n",
       "      <td>2015-02-20 10:43:58.0</td>\n",
       "      <td>Williams</td>\n",
       "      <td>830.396</td>\n",
       "      <td></td>\n",
       "      <td>...</td>\n",
       "      <td>f.philipwi/GNPS_Marine_Invertebrate_Secondary_...</td>\n",
       "      <td>CCMSLIB00000425025</td>\n",
       "      <td>1</td>\n",
       "      <td>CCMSLIB00000425025</td>\n",
       "      <td>splash10-0006-0193000000-0193000000</td>\n",
       "      <td>philipwi</td>\n",
       "      <td>2a233db354204f2d9690147ffcd71a84</td>\n",
       "      <td>2a233db354204f2d9690147ffcd71a84</td>\n",
       "      <td>https://gnps.ucsd.edu/ProteoSAFe/gnpslibrarysp...</td>\n",
       "      <td>null</td>\n",
       "    </tr>\n",
       "    <tr>\n",
       "      <th>CCMSLIB00000424991</th>\n",
       "      <td>0.767513</td>\n",
       "      <td>M+H</td>\n",
       "      <td>1036975-53-7</td>\n",
       "      <td>2</td>\n",
       "      <td>Dictazoline B</td>\n",
       "      <td>Isolated</td>\n",
       "      <td>2015-02-18 13:19:47.0</td>\n",
       "      <td>Williams</td>\n",
       "      <td>636.023</td>\n",
       "      <td></td>\n",
       "      <td>...</td>\n",
       "      <td>f.philipwi/GNPS_Marine_Invertebrate_Secondary_...</td>\n",
       "      <td>CCMSLIB00000424991</td>\n",
       "      <td>1</td>\n",
       "      <td>CCMSLIB00000424991</td>\n",
       "      <td>null-null-null-null</td>\n",
       "      <td>philipwi</td>\n",
       "      <td>e68c763da23e4983b3568a69bcdc13c5</td>\n",
       "      <td>e68c763da23e4983b3568a69bcdc13c5</td>\n",
       "      <td>https://gnps.ucsd.edu/ProteoSAFe/gnpslibrarysp...</td>\n",
       "      <td>null</td>\n",
       "    </tr>\n",
       "    <tr>\n",
       "      <th>CCMSLIB00000424995</th>\n",
       "      <td>0.765983</td>\n",
       "      <td>M+H</td>\n",
       "      <td>1221070-80-9</td>\n",
       "      <td>1</td>\n",
       "      <td>Dictazole B</td>\n",
       "      <td>Isolated</td>\n",
       "      <td>2015-02-18 13:32:08.0</td>\n",
       "      <td>Williams</td>\n",
       "      <td>650.039</td>\n",
       "      <td></td>\n",
       "      <td>...</td>\n",
       "      <td>f.philipwi/GNPS_Marine_Invertebrate_Secondary_...</td>\n",
       "      <td>CCMSLIB00000424995</td>\n",
       "      <td>1</td>\n",
       "      <td>CCMSLIB00000424995</td>\n",
       "      <td>splash10-01bc-0189000000-0189000000</td>\n",
       "      <td>philipwi</td>\n",
       "      <td>2d3e61201a7e4a3896465cfea99a89f3</td>\n",
       "      <td>2d3e61201a7e4a3896465cfea99a89f3</td>\n",
       "      <td>https://gnps.ucsd.edu/ProteoSAFe/gnpslibrarysp...</td>\n",
       "      <td>null</td>\n",
       "    </tr>\n",
       "    <tr>\n",
       "      <th>CCMSLIB00004752915</th>\n",
       "      <td>0.746923</td>\n",
       "      <td>M+H</td>\n",
       "      <td></td>\n",
       "      <td>1</td>\n",
       "      <td>14-bromo-7,8-dehydrodiscorhabdin C (+2 isotope))</td>\n",
       "      <td>Crude</td>\n",
       "      <td>2019-02-27 04:07:55.0</td>\n",
       "      <td>JCJK</td>\n",
       "      <td>537.84</td>\n",
       "      <td></td>\n",
       "      <td>...</td>\n",
       "      <td>f.shaq/Sponges/Augustfinale/2016-050AW_GA7_01_...</td>\n",
       "      <td>CCMSLIB00004752915</td>\n",
       "      <td>1</td>\n",
       "      <td>CCMSLIB00004752915</td>\n",
       "      <td>null-null-null-null</td>\n",
       "      <td>shaq</td>\n",
       "      <td>ee6cfdf8113f491ca5362aa476f0038b</td>\n",
       "      <td>ee6cfdf8113f491ca5362aa476f0038b</td>\n",
       "      <td>https://gnps.ucsd.edu/ProteoSAFe/gnpslibrarysp...</td>\n",
       "      <td>null</td>\n",
       "    </tr>\n",
       "    <tr>\n",
       "      <th>CCMSLIB00000081688</th>\n",
       "      <td>0.741963</td>\n",
       "      <td>M+H</td>\n",
       "      <td>16408-78-9</td>\n",
       "      <td>1</td>\n",
       "      <td>Dicentrinone</td>\n",
       "      <td>Isolated</td>\n",
       "      <td>2014-05-27 12:26:35.0</td>\n",
       "      <td>Denise Silva</td>\n",
       "      <td>335.079</td>\n",
       "      <td>C19H13NO5</td>\n",
       "      <td>...</td>\n",
       "      <td>gnps_Dicentrinone_pos_MplusH.mgf</td>\n",
       "      <td>CCMSLIB00000081688</td>\n",
       "      <td>1</td>\n",
       "      <td>CCMSLIB00000081688</td>\n",
       "      <td>splash10-00dl-0094000000-0094000000</td>\n",
       "      <td>rsilva</td>\n",
       "      <td>52bd5f0db6314c93924d5ce5c86348eb</td>\n",
       "      <td>52bd5f0db6314c93924d5ce5c86348eb</td>\n",
       "      <td>https://gnps.ucsd.edu/ProteoSAFe/gnpslibrarysp...</td>\n",
       "      <td>null</td>\n",
       "    </tr>\n",
       "    <tr>\n",
       "      <th>CCMSLIB00005724709</th>\n",
       "      <td>0.728401</td>\n",
       "      <td>M+H</td>\n",
       "      <td>N/A</td>\n",
       "      <td>1</td>\n",
       "      <td>5-hydroxy-2-(4-hydroxy-3-methoxyphenyl)-3,6,7-...</td>\n",
       "      <td>Isolated</td>\n",
       "      <td>2020-11-03 21:52:23.0</td>\n",
       "      <td>Luis Quiros-Guerrero</td>\n",
       "      <td>374.1</td>\n",
       "      <td>C19H18O8</td>\n",
       "      <td>...</td>\n",
       "      <td>MSV000086251/peak/PF076_pos/181109_PMA_LQG_PF0...</td>\n",
       "      <td>CCMSLIB00005724709</td>\n",
       "      <td>1</td>\n",
       "      <td>CCMSLIB00005724709</td>\n",
       "      <td>null-null-null-null</td>\n",
       "      <td>mpanitchpakdi</td>\n",
       "      <td>b7f2cbd969e74b49afa21a971797875c</td>\n",
       "      <td>b7f2cbd969e74b49afa21a971797875c</td>\n",
       "      <td>https://gnps.ucsd.edu/ProteoSAFe/gnpslibrarysp...</td>\n",
       "      <td>null</td>\n",
       "    </tr>\n",
       "  </tbody>\n",
       "</table>\n",
       "<p>10 rows × 38 columns</p>\n",
       "</div>"
      ],
      "text/plain": [
       "                          score    adduct    cas_number charge  \\\n",
       "matches of spectrum-0                                            \n",
       "CCMSLIB00005725477     0.827757  M-2H2O+H           N/A      1   \n",
       "CCMSLIB00000424839     0.805503       M+H                    1   \n",
       "CCMSLIB00000072245     0.786172       M+H           N/A      1   \n",
       "CCMSLIB00000478500     0.780126      2M+H   360765-74-8      1   \n",
       "CCMSLIB00000425025     0.779433       M+H   148473-00-1      1   \n",
       "CCMSLIB00000424991     0.767513       M+H  1036975-53-7      2   \n",
       "CCMSLIB00000424995     0.765983       M+H  1221070-80-9      1   \n",
       "CCMSLIB00004752915     0.746923       M+H                    1   \n",
       "CCMSLIB00000081688     0.741963       M+H    16408-78-9      1   \n",
       "CCMSLIB00005724709     0.728401       M+H           N/A      1   \n",
       "\n",
       "                                                           compound_name  \\\n",
       "matches of spectrum-0                                                      \n",
       "CCMSLIB00005725477     (3S,6'R)-6'-ethyl-1,6-dimethoxy-1,2-dihydro-10...   \n",
       "CCMSLIB00000424839                                        Tjipanazole A1   \n",
       "CCMSLIB00000072245                                            Riboflavin   \n",
       "CCMSLIB00000478500                                  Stephacidin A_130074   \n",
       "CCMSLIB00000425025                                          Hymenamide B   \n",
       "CCMSLIB00000424991                                         Dictazoline B   \n",
       "CCMSLIB00000424995                                           Dictazole B   \n",
       "CCMSLIB00004752915      14-bromo-7,8-dehydrodiscorhabdin C (+2 isotope))   \n",
       "CCMSLIB00000081688                                          Dicentrinone   \n",
       "CCMSLIB00005724709     5-hydroxy-2-(4-hydroxy-3-methoxyphenyl)-3,6,7-...   \n",
       "\n",
       "                      compound_source            create_time  \\\n",
       "matches of spectrum-0                                          \n",
       "CCMSLIB00005725477           Isolated  2020-11-03 21:54:04.0   \n",
       "CCMSLIB00000424839           Isolated  2015-02-04 11:15:03.0   \n",
       "CCMSLIB00000072245              Crude  2021-03-18 20:06:36.0   \n",
       "CCMSLIB00000478500           Isolated  2015-05-12 15:08:32.0   \n",
       "CCMSLIB00000425025           Isolated  2015-02-20 10:43:58.0   \n",
       "CCMSLIB00000424991           Isolated  2015-02-18 13:19:47.0   \n",
       "CCMSLIB00000424995           Isolated  2015-02-18 13:32:08.0   \n",
       "CCMSLIB00004752915              Crude  2019-02-27 04:07:55.0   \n",
       "CCMSLIB00000081688           Isolated  2014-05-27 12:26:35.0   \n",
       "CCMSLIB00005724709           Isolated  2020-11-03 21:52:23.0   \n",
       "\n",
       "                             data_collector exactmass formula_inchi  ...  \\\n",
       "matches of spectrum-0                                                ...   \n",
       "CCMSLIB00005725477     Luis Quiros-Guerrero   358.189    C20H26N2O4  ...   \n",
       "CCMSLIB00000424839                 Williams    470.08                ...   \n",
       "CCMSLIB00000072245                J Watrous   376.138    C17H20N4O6  ...   \n",
       "CCMSLIB00000478500                 Luzzatto   431.221                ...   \n",
       "CCMSLIB00000425025                 Williams   830.396                ...   \n",
       "CCMSLIB00000424991                 Williams   636.023                ...   \n",
       "CCMSLIB00000424995                 Williams   650.039                ...   \n",
       "CCMSLIB00004752915                     JCJK    537.84                ...   \n",
       "CCMSLIB00000081688             Denise Silva   335.079     C19H13NO5  ...   \n",
       "CCMSLIB00005724709     Luis Quiros-Guerrero     374.1      C19H18O8  ...   \n",
       "\n",
       "                                                             source_file  \\\n",
       "matches of spectrum-0                                                      \n",
       "CCMSLIB00005725477     MSV000086303/peak/PF017811_pos/200302_LQ_47344...   \n",
       "CCMSLIB00000424839     f.philipwi/0_WilliamsFreshwaterCyanosStandards...   \n",
       "CCMSLIB00000072245                      Riboflavin_1H_LTQ_377_3188.mzXML   \n",
       "CCMSLIB00000478500                          P2_C5_conc_GE5_01_2423.mzXML   \n",
       "CCMSLIB00000425025     f.philipwi/GNPS_Marine_Invertebrate_Secondary_...   \n",
       "CCMSLIB00000424991     f.philipwi/GNPS_Marine_Invertebrate_Secondary_...   \n",
       "CCMSLIB00000424995     f.philipwi/GNPS_Marine_Invertebrate_Secondary_...   \n",
       "CCMSLIB00004752915     f.shaq/Sponges/Augustfinale/2016-050AW_GA7_01_...   \n",
       "CCMSLIB00000081688                      gnps_Dicentrinone_pos_MplusH.mgf   \n",
       "CCMSLIB00005724709     MSV000086251/peak/PF076_pos/181109_PMA_LQG_PF0...   \n",
       "\n",
       "                              spectrum_id spectrum_status          spectrumid  \\\n",
       "matches of spectrum-0                                                           \n",
       "CCMSLIB00005725477     CCMSLIB00005725477               1  CCMSLIB00005725477   \n",
       "CCMSLIB00000424839     CCMSLIB00000424839               1  CCMSLIB00000424839   \n",
       "CCMSLIB00000072245     CCMSLIB00000072245               1  CCMSLIB00000072245   \n",
       "CCMSLIB00000478500     CCMSLIB00000478500               1  CCMSLIB00000478500   \n",
       "CCMSLIB00000425025     CCMSLIB00000425025               1  CCMSLIB00000425025   \n",
       "CCMSLIB00000424991     CCMSLIB00000424991               1  CCMSLIB00000424991   \n",
       "CCMSLIB00000424995     CCMSLIB00000424995               1  CCMSLIB00000424995   \n",
       "CCMSLIB00004752915     CCMSLIB00004752915               1  CCMSLIB00004752915   \n",
       "CCMSLIB00000081688     CCMSLIB00000081688               1  CCMSLIB00000081688   \n",
       "CCMSLIB00005724709     CCMSLIB00005724709               1  CCMSLIB00005724709   \n",
       "\n",
       "                                                    splash    submit_user  \\\n",
       "matches of spectrum-0                                                       \n",
       "CCMSLIB00005725477                     null-null-null-null  mpanitchpakdi   \n",
       "CCMSLIB00000424839     splash10-0umi-0309000000-0309000000       philipwi   \n",
       "CCMSLIB00000072245     splash10-052f-0169000000-0169000000       jdwatrou   \n",
       "CCMSLIB00000478500     splash10-001i-0000900000-0000900000         tal_lk   \n",
       "CCMSLIB00000425025     splash10-0006-0193000000-0193000000       philipwi   \n",
       "CCMSLIB00000424991                     null-null-null-null       philipwi   \n",
       "CCMSLIB00000424995     splash10-01bc-0189000000-0189000000       philipwi   \n",
       "CCMSLIB00004752915                     null-null-null-null           shaq   \n",
       "CCMSLIB00000081688     splash10-00dl-0094000000-0094000000         rsilva   \n",
       "CCMSLIB00005724709                     null-null-null-null  mpanitchpakdi   \n",
       "\n",
       "                                                   task  \\\n",
       "matches of spectrum-0                                     \n",
       "CCMSLIB00005725477     5c7943c413a14015969545069c9b9c83   \n",
       "CCMSLIB00000424839     aec2995b0184438285d50459f3dd1949   \n",
       "CCMSLIB00000072245     3bbf0c46eeeb406782b2f3cd0ad9b2b3   \n",
       "CCMSLIB00000478500     d8fa66096dfb40cab2074831aacb390d   \n",
       "CCMSLIB00000425025     2a233db354204f2d9690147ffcd71a84   \n",
       "CCMSLIB00000424991     e68c763da23e4983b3568a69bcdc13c5   \n",
       "CCMSLIB00000424995     2d3e61201a7e4a3896465cfea99a89f3   \n",
       "CCMSLIB00004752915     ee6cfdf8113f491ca5362aa476f0038b   \n",
       "CCMSLIB00000081688     52bd5f0db6314c93924d5ce5c86348eb   \n",
       "CCMSLIB00005724709     b7f2cbd969e74b49afa21a971797875c   \n",
       "\n",
       "                                                task_id  \\\n",
       "matches of spectrum-0                                     \n",
       "CCMSLIB00005725477     5c7943c413a14015969545069c9b9c83   \n",
       "CCMSLIB00000424839     aec2995b0184438285d50459f3dd1949   \n",
       "CCMSLIB00000072245     c6eb054dcd3e46ed9cdf97b14d322741   \n",
       "CCMSLIB00000478500     d8fa66096dfb40cab2074831aacb390d   \n",
       "CCMSLIB00000425025     2a233db354204f2d9690147ffcd71a84   \n",
       "CCMSLIB00000424991     e68c763da23e4983b3568a69bcdc13c5   \n",
       "CCMSLIB00000424995     2d3e61201a7e4a3896465cfea99a89f3   \n",
       "CCMSLIB00004752915     ee6cfdf8113f491ca5362aa476f0038b   \n",
       "CCMSLIB00000081688     52bd5f0db6314c93924d5ce5c86348eb   \n",
       "CCMSLIB00005724709     b7f2cbd969e74b49afa21a971797875c   \n",
       "\n",
       "                                                                     url  \\\n",
       "matches of spectrum-0                                                      \n",
       "CCMSLIB00005725477     https://gnps.ucsd.edu/ProteoSAFe/gnpslibrarysp...   \n",
       "CCMSLIB00000424839     https://gnps.ucsd.edu/ProteoSAFe/gnpslibrarysp...   \n",
       "CCMSLIB00000072245     https://gnps.ucsd.edu/ProteoSAFe/gnpslibrarysp...   \n",
       "CCMSLIB00000478500     https://gnps.ucsd.edu/ProteoSAFe/gnpslibrarysp...   \n",
       "CCMSLIB00000425025     https://gnps.ucsd.edu/ProteoSAFe/gnpslibrarysp...   \n",
       "CCMSLIB00000424991     https://gnps.ucsd.edu/ProteoSAFe/gnpslibrarysp...   \n",
       "CCMSLIB00000424995     https://gnps.ucsd.edu/ProteoSAFe/gnpslibrarysp...   \n",
       "CCMSLIB00004752915     https://gnps.ucsd.edu/ProteoSAFe/gnpslibrarysp...   \n",
       "CCMSLIB00000081688     https://gnps.ucsd.edu/ProteoSAFe/gnpslibrarysp...   \n",
       "CCMSLIB00005724709     https://gnps.ucsd.edu/ProteoSAFe/gnpslibrarysp...   \n",
       "\n",
       "                      user_id  \n",
       "matches of spectrum-0          \n",
       "CCMSLIB00005725477       null  \n",
       "CCMSLIB00000424839       null  \n",
       "CCMSLIB00000072245       null  \n",
       "CCMSLIB00000478500       null  \n",
       "CCMSLIB00000425025       null  \n",
       "CCMSLIB00000424991       null  \n",
       "CCMSLIB00000424995       null  \n",
       "CCMSLIB00004752915       null  \n",
       "CCMSLIB00000081688       null  \n",
       "CCMSLIB00005724709       null  \n",
       "\n",
       "[10 rows x 38 columns]"
      ]
     },
     "execution_count": 6,
     "metadata": {},
     "output_type": "execute_result"
    }
   ],
   "source": [
    "spectra_matches[0]"
   ]
  },
  {
   "cell_type": "markdown",
   "metadata": {},
   "source": [
    "# 3. Save results\n",
    "\n",
    "Execute the following cell to save the results in an Excel file. For readability, each dataframe is saved in its own csv file under the matches directory."
   ]
  },
  {
   "cell_type": "code",
   "execution_count": 7,
   "metadata": {},
   "outputs": [],
   "source": [
    "import os\n",
    "os.makedirs(\"matches\", exist_ok=True)\n",
    "for i, spectrum_matches in enumerate(spectra_matches):\n",
    "    spectrum_matches.to_csv(f\"matches/spectrum_{i}.csv\")"
   ]
  },
  {
   "cell_type": "markdown",
   "metadata": {},
   "source": [
    "# 4. Create Plots\n",
    "\n",
    "The following cell will show you an example of how to visualize your matches."
   ]
  },
  {
   "cell_type": "markdown",
   "metadata": {},
   "source": [
    "### Creating a Plot of the molecular structure "
   ]
  },
  {
   "cell_type": "code",
   "execution_count": 8,
   "metadata": {},
   "outputs": [
    {
     "data": {
      "image/png": "[encoded data removed]",
      "text/plain": [
       "<PIL.PngImagePlugin.PngImageFile image mode=RGB size=300x300 at 0x7FF414266610>"
      ]
     },
     "metadata": {},
     "output_type": "display_data"
    },
    {
     "name": "stdout",
     "output_type": "stream",
     "text": [
      "h_174_fluoxymesterone_m2\n"
     ]
    }
   ],
   "source": [
    "from omigami.plotting import MoleculePlotter\n",
    "plotter = MoleculePlotter()\n",
    "\n",
    "plots, legends = plotter.plot_molecule_structure(\n",
    "    spectra_matches[1],\n",
    "    draw_indices=True,\n",
    "    img_size=(300, 300),\n",
    "    substructure_highlight=\"C(=O)\"\n",
    ")\n",
    "\n",
    "first_match = list(plots.values())[0]\n",
    "display(first_match)\n",
    "print(legends[0])"
   ]
  },
  {
   "cell_type": "markdown",
   "metadata": {},
   "source": [
    "### Creating a Spectra Comparison Mirror Plot"
   ]
  },
  {
   "cell_type": "code",
   "execution_count": 9,
   "metadata": {},
   "outputs": [
    {
     "data": {
      "image/png": "[encoded data removed]",
      "text/plain": [
       "<Figure size 1440x720 with 2 Axes>"
      ]
     },
     "metadata": {
      "needs_background": "light"
     },
     "output_type": "display_data"
    }
   ],
   "source": [
    "from omigami.plotting import SpectraComparisonPlotter\n",
    "from omigami.utilities import SpectrumDataFrameHelper\n",
    "from matchms.importing import load_from_mgf\n",
    "\n",
    "plotter = SpectraComparisonPlotter()\n",
    "\n",
    "# lets load in memory our input spectra so we can compare input and output (matches)\n",
    "input_spectra = list(load_from_mgf(path_to_mgf))\n",
    "\n",
    "input_df = SpectrumDataFrameHelper.from_spectrum(input_spectra[0])\n",
    "\n",
    "spectrum_match_id = spectra_matches[0].index[0]\n",
    "output_df = SpectrumDataFrameHelper.from_gnps_id(spectrum_match_id)\n",
    "\n",
    "plot = plotter.mirror_plot(\n",
    "    spectrum_1=input_df,\n",
    "    spectrum_2=output_df,\n",
    "    labels=[\"Input Spectrum\", \"First Spectrum Match\"],\n",
    "    display_limits=(0,500)\n",
    ")"
   ]
  },
  {
   "cell_type": "markdown",
   "metadata": {},
   "source": [
    "### Creating a Plot using the ClassyFire API"
   ]
  },
  {
   "cell_type": "code",
   "execution_count": 10,
   "metadata": {},
   "outputs": [
    {
     "data": {
      "text/plain": [
       "<BarContainer object of 4 artists>"
      ]
     },
     "execution_count": 10,
     "metadata": {},
     "output_type": "execute_result"
    },
    {
     "data": {
      "image/png": "[encoded data removed]",
      "text/plain": [
       "<Figure size 432x288 with 1 Axes>"
      ]
     },
     "metadata": {
      "needs_background": "light"
     },
     "output_type": "display_data"
    }
   ],
   "source": [
    "plotter = MoleculePlotter()\n",
    "plotter.plot_classyfire_result(spectra_matches[1], color=\"green\")"
   ]
  },
  {
   "cell_type": "markdown",
   "metadata": {},
   "source": [
    "### Creating a Plot using the NP-Classifier API"
   ]
  },
  {
   "cell_type": "code",
   "execution_count": 11,
   "metadata": {},
   "outputs": [
    {
     "data": {
      "text/plain": [
       "<BarContainer object of 3 artists>"
      ]
     },
     "execution_count": 11,
     "metadata": {},
     "output_type": "execute_result"
    },
    {
     "data": {
      "image/png": "[encoded data removed]",
      "text/plain": [
       "<Figure size 432x288 with 1 Axes>"
      ]
     },
     "metadata": {
      "needs_background": "light"
     },
     "output_type": "display_data"
    }
   ],
   "source": [
    "plotter = MoleculePlotter()\n",
    "plotter.plot_NPclassifier_result(spectra_matches[1], color=\"orange\")"
   ]
  },
  {
   "cell_type": "markdown",
   "metadata": {
    "id": "fxZC5erYIjIq"
   },
   "source": [
    "____"
   ]
  }
 ],
 "metadata": {
  "colab": {
   "collapsed_sections": [],
   "name": "MS2DeepScore predictions API documentation.ipynb",
   "provenance": []
  },
  "kernelspec": {
   "display_name": "Python 3 (ipykernel)",
   "language": "python",
   "name": "python3"
  },
  "language_info": {
   "codemirror_mode": {
    "name": "ipython",
    "version": 3
   },
   "file_extension": ".py",
   "mimetype": "text/x-python",
   "name": "python",
   "nbconvert_exporter": "python",
   "pygments_lexer": "ipython3",
   "version": "3.7.11"
  }
 },
 "nbformat": 4,
 "nbformat_minor": 4
}
