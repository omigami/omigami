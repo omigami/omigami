{
 "cells": [
  {
   "cell_type": "markdown",
   "metadata": {},
   "source": [
    "# MS2DeepScore API – Quickstart\n",
    "\n",
    "*In order to use omigami, you need an access token provided by DataRevenue.*\n",
    "## Introduction\n",
    "\n",
    "This is a short guide on how you can predict molecular structural similarities (Tanimoto scores) from pairs of mass spectrometry spectra in local mgf files - using Omigami's MS2DeepScore API.\n",
    "\n",
    "The API uses a MS2DeepScore model which was trained on > 100,000 MS/MS spectra from GNPS. It prepares the two spectra and using a Siamese neural network predicts returns the molecular structural similarity (Tanimoto score).\n",
    "\n",
    "This notebook shows you how to:\n",
    "1. Specify any MGF file with two spectra.\n",
    "2. Make a prediction through the MS2DeepScore API."
   ]
  },
  {
   "cell_type": "markdown",
   "metadata": {},
   "source": [
    "# 1. Load a MS/MS dataset (MGF format)\n",
    "\n",
    "We'll use the MS/MS dataset in the MGF format in this directory. You can also select any other from the [GNPS spectral library](https://gnps-external.ucsd.edu/gnpslibrary), or - of course - use your own.\n",
    "\n",
    "*Note that MS2DeepScore accepts two spectra at a time. Please prepare a MGF file with only two spectra.*"
   ]
  },
  {
   "cell_type": "code",
   "execution_count": 1,
   "metadata": {
    "id": "cHX57WiaVX_o"
   },
   "outputs": [],
   "source": [
    "# Load your own MS/MS dataset\n",
    "path_to_mgf = 'GNPS-2-SPECTRA.mgf'"
   ]
  },
  {
   "cell_type": "markdown",
   "metadata": {},
   "source": [
    "# 2. Predict molecular structural similarity with MS2DeepScore\n",
    "\n",
    "`MS2DeepScore` is a python wrapper which :\n",
    "- Builds a json payload from the MGF file\n",
    "- Calls the MS2DeepScores API\n",
    "- Formats the prediction results into readable format"
   ]
  },
  {
   "cell_type": "code",
   "execution_count": 2,
   "metadata": {
    "id": "fLx7vmXRIjIg"
   },
   "outputs": [],
   "source": [
    "from omigami import MS2DeepScore"
   ]
  },
  {
   "cell_type": "code",
   "execution_count": 3,
   "metadata": {
    "id": "BHMpFDN2Pq8Z"
   },
   "outputs": [],
   "source": [
    "# Initialize the client with your user token\n",
    "ms2deepscore = MS2DeepScore(token=\"token\")"
   ]
  },
  {
   "cell_type": "code",
   "execution_count": 19,
   "metadata": {},
   "outputs": [],
   "source": [
    "# Run MS2DeepScore prediction\n",
    "prediction = ms2deepscore.match_spectra_from_path(\n",
    "    path_to_mgf, \n",
    "    n_best=10, \n",
    "    include_metadata=[\"Smiles\", \"Compound_name\"]\n",
    ")"
   ]
  },
  {
   "cell_type": "code",
   "execution_count": 8,
   "metadata": {},
   "outputs": [],
   "source": []
  },
  {
   "cell_type": "markdown",
   "metadata": {},
   "source": [
    "## 2.1 View prediction\n",
    "A list is returned."
   ]
  },
  {
   "cell_type": "code",
   "execution_count": 23,
   "metadata": {},
   "outputs": [],
   "source": [
    "prediction[0]"
   ]
  },
  {
   "cell_type": "markdown",
   "metadata": {
    "id": "fxZC5erYIjIq"
   },
   "source": [
    "____"
   ]
  }
 ],
 "metadata": {
  "colab": {
   "collapsed_sections": [],
   "name": "MS2DeepScore predictions API documentation.ipynb",
   "provenance": []
  },
  "kernelspec": {
   "display_name": "Python 3",
   "language": "python",
   "name": "python3"
  },
  "language_info": {
   "codemirror_mode": {
    "name": "ipython",
    "version": 3
   },
   "file_extension": ".py",
   "mimetype": "text/x-python",
   "name": "python",
   "nbconvert_exporter": "python",
   "pygments_lexer": "ipython3",
   "version": "3.9.5"
  }
 },
 "nbformat": 4,
 "nbformat_minor": 4
}
