{
 "cells": [
  {
   "cell_type": "markdown",
   "id": "41339eef-635d-4fa1-822e-2b3ba7ee37f9",
   "metadata": {},
   "source": [
    "# Spec2Vec Example Notebook"
   ]
  },
  {
   "cell_type": "markdown",
   "id": "08c742f7-3f0a-4369-9855-9ca8d5b31a85",
   "metadata": {},
   "source": [
    "This is a simple example on how to use the Spec2VecClient in order to compute the best matches across spectra. In order to use the client, you need an access token provided by DataRevenue. "
   ]
  },
  {
   "cell_type": "code",
   "execution_count": 1,
   "id": "9da25db9-6558-4d8b-80a9-7222bb3ea847",
   "metadata": {},
   "outputs": [],
   "source": [
    "from omigami_client import Spec2VecClient"
   ]
  },
  {
   "cell_type": "markdown",
   "id": "64d412f5-6585-49d5-81c7-085b75698d4c",
   "metadata": {},
   "source": [
    "## Prepare the Spectrum Data\n",
    "\n",
    "On this example we are using a public mgf file and downloading it to the same directory as this notebook."
   ]
  },
  {
   "cell_type": "code",
   "execution_count": 2,
   "id": "b5665168-bfa6-41b2-9069-e473092d043b",
   "metadata": {},
   "outputs": [
    {
     "data": {
      "text/plain": [
       "('GNPS-COLLECTIONS-MISC.mgf', <http.client.HTTPMessage at 0x7fe820f29a30>)"
      ]
     },
     "execution_count": 2,
     "metadata": {},
     "output_type": "execute_result"
    }
   ],
   "source": [
    "import urllib\n",
    "\n",
    "url = 'https://gnps-external.ucsd.edu/gnpslibrary/GNPS-COLLECTIONS-MISC.mgf'\n",
    "path_to_mgf = 'GNPS-COLLECTIONS-MISC.mgf'\n",
    "urllib.request.urlretrieve(url, path_to_mgf)"
   ]
  },
  {
   "cell_type": "markdown",
   "id": "18f34d25-4a57-4e04-b986-6106263facb4",
   "metadata": {},
   "source": [
    "## Query for the Best Matches\n",
    "\n",
    "All you need to do is to create a client with your user token and call the `match_spectra_from_path` method."
   ]
  },
  {
   "cell_type": "code",
   "execution_count": 3,
   "id": "2589580c-52ec-4d04-b330-1ffce599a0c9",
   "metadata": {},
   "outputs": [],
   "source": [
    "spec2vec = Spec2VecClient(token=\"J1y9Vqov5eGiOxf3b62XAOhMZ0pcwfnu\")"
   ]
  },
  {
   "cell_type": "code",
   "execution_count": 5,
   "id": "23366ebc-4bd5-465d-b7dd-e529d4a394f7",
   "metadata": {},
   "outputs": [
    {
     "ename": "KeyError",
     "evalue": "'data'",
     "output_type": "error",
     "traceback": [
      "\u001b[0;31m---------------------------------------------------------------------------\u001b[0m",
      "\u001b[0;31mKeyError\u001b[0m                                  Traceback (most recent call last)",
      "\u001b[0;32m<ipython-input-5-8118a64eb35f>\u001b[0m in \u001b[0;36m<module>\u001b[0;34m\u001b[0m\n\u001b[0;32m----> 1\u001b[0;31m \u001b[0mresult\u001b[0m \u001b[0;34m=\u001b[0m \u001b[0mspec2vec\u001b[0m\u001b[0;34m.\u001b[0m\u001b[0mmatch_spectra_from_path\u001b[0m\u001b[0;34m(\u001b[0m\u001b[0mpath_to_mgf\u001b[0m\u001b[0;34m,\u001b[0m \u001b[0;36m10\u001b[0m\u001b[0;34m)\u001b[0m\u001b[0;34m\u001b[0m\u001b[0;34m\u001b[0m\u001b[0m\n\u001b[0m",
      "\u001b[0;32m~/dev/datarevenue/omigami_client/omigami_client/spec2vec.py\u001b[0m in \u001b[0;36mmatch_spectra_from_path\u001b[0;34m(self, mgf_path, n_best)\u001b[0m\n\u001b[1;32m     41\u001b[0m         \u001b[0mpayload\u001b[0m \u001b[0;34m=\u001b[0m \u001b[0mself\u001b[0m\u001b[0;34m.\u001b[0m\u001b[0m_build_payload\u001b[0m\u001b[0;34m(\u001b[0m\u001b[0mspectra_generator\u001b[0m\u001b[0;34m,\u001b[0m \u001b[0mn_best\u001b[0m\u001b[0;34m)\u001b[0m\u001b[0;34m\u001b[0m\u001b[0;34m\u001b[0m\u001b[0m\n\u001b[1;32m     42\u001b[0m         \u001b[0mapi_request\u001b[0m \u001b[0;34m=\u001b[0m \u001b[0mself\u001b[0m\u001b[0;34m.\u001b[0m\u001b[0m_send_request\u001b[0m\u001b[0;34m(\u001b[0m\u001b[0mpayload\u001b[0m\u001b[0;34m)\u001b[0m\u001b[0;34m\u001b[0m\u001b[0;34m\u001b[0m\u001b[0m\n\u001b[0;32m---> 43\u001b[0;31m         \u001b[0mprediction\u001b[0m \u001b[0;34m=\u001b[0m \u001b[0mself\u001b[0m\u001b[0;34m.\u001b[0m\u001b[0m_format_results\u001b[0m\u001b[0;34m(\u001b[0m\u001b[0mapi_request\u001b[0m\u001b[0;34m)\u001b[0m\u001b[0;34m\u001b[0m\u001b[0;34m\u001b[0m\u001b[0m\n\u001b[0m\u001b[1;32m     44\u001b[0m \u001b[0;34m\u001b[0m\u001b[0m\n\u001b[1;32m     45\u001b[0m         \u001b[0;32mreturn\u001b[0m \u001b[0mprediction\u001b[0m\u001b[0;34m\u001b[0m\u001b[0;34m\u001b[0m\u001b[0m\n",
      "\u001b[0;32m~/dev/datarevenue/omigami_client/omigami_client/spec2vec.py\u001b[0m in \u001b[0;36m_format_results\u001b[0;34m(api_request)\u001b[0m\n\u001b[1;32m    144\u001b[0m     \u001b[0;32mdef\u001b[0m \u001b[0m_format_results\u001b[0m\u001b[0;34m(\u001b[0m\u001b[0mapi_request\u001b[0m\u001b[0;34m:\u001b[0m \u001b[0mrequests\u001b[0m\u001b[0;34m.\u001b[0m\u001b[0mResponse\u001b[0m\u001b[0;34m)\u001b[0m \u001b[0;34m->\u001b[0m \u001b[0mList\u001b[0m\u001b[0;34m[\u001b[0m\u001b[0mpd\u001b[0m\u001b[0;34m.\u001b[0m\u001b[0mDataFrame\u001b[0m\u001b[0;34m]\u001b[0m\u001b[0;34m:\u001b[0m\u001b[0;34m\u001b[0m\u001b[0;34m\u001b[0m\u001b[0m\n\u001b[1;32m    145\u001b[0m         \u001b[0mresponse\u001b[0m \u001b[0;34m=\u001b[0m \u001b[0mjson\u001b[0m\u001b[0;34m.\u001b[0m\u001b[0mloads\u001b[0m\u001b[0;34m(\u001b[0m\u001b[0mapi_request\u001b[0m\u001b[0;34m.\u001b[0m\u001b[0mtext\u001b[0m\u001b[0;34m)\u001b[0m\u001b[0;34m\u001b[0m\u001b[0;34m\u001b[0m\u001b[0m\n\u001b[0;32m--> 146\u001b[0;31m         \u001b[0mlibrary_spectra_raw\u001b[0m \u001b[0;34m=\u001b[0m \u001b[0mresponse\u001b[0m\u001b[0;34m[\u001b[0m\u001b[0;34m\"data\"\u001b[0m\u001b[0;34m]\u001b[0m\u001b[0;34m[\u001b[0m\u001b[0;34m\"ndarray\"\u001b[0m\u001b[0;34m]\u001b[0m\u001b[0;34m\u001b[0m\u001b[0;34m\u001b[0m\u001b[0m\n\u001b[0m\u001b[1;32m    147\u001b[0m \u001b[0;34m\u001b[0m\u001b[0m\n\u001b[1;32m    148\u001b[0m         \u001b[0mpredicted_spectra\u001b[0m \u001b[0;34m=\u001b[0m \u001b[0;34m[\u001b[0m\u001b[0;34m]\u001b[0m\u001b[0;34m\u001b[0m\u001b[0;34m\u001b[0m\u001b[0m\n",
      "\u001b[0;31mKeyError\u001b[0m: 'data'"
     ]
    }
   ],
   "source": [
    "result = spec2vec.match_spectra_from_path(path_to_mgf, 10)"
   ]
  },
  {
   "cell_type": "markdown",
   "id": "968b0c2c-607a-43fd-a1bc-535f4f89697c",
   "metadata": {},
   "source": [
    "## Inspecting the Results\n",
    "\n",
    "The results are a list of pandas dataframes. You can inspect the results with pandas or export them."
   ]
  },
  {
   "cell_type": "code",
   "execution_count": 7,
   "id": "dd8b91e8-3602-44e9-bcd2-06fa98bc9c30",
   "metadata": {},
   "outputs": [
    {
     "data": {
      "text/html": [
       "<div>\n",
       "<style scoped>\n",
       "    .dataframe tbody tr th:only-of-type {\n",
       "        vertical-align: middle;\n",
       "    }\n",
       "\n",
       "    .dataframe tbody tr th {\n",
       "        vertical-align: top;\n",
       "    }\n",
       "\n",
       "    .dataframe thead th {\n",
       "        text-align: right;\n",
       "    }\n",
       "</style>\n",
       "<table border=\"1\" class=\"dataframe\">\n",
       "  <thead>\n",
       "    <tr style=\"text-align: right;\">\n",
       "      <th></th>\n",
       "      <th>score</th>\n",
       "    </tr>\n",
       "    <tr>\n",
       "      <th>matches of spectrum #1</th>\n",
       "      <th></th>\n",
       "    </tr>\n",
       "  </thead>\n",
       "  <tbody>\n",
       "    <tr>\n",
       "      <th>CCMSLIB00006015264</th>\n",
       "      <td>0.231717</td>\n",
       "    </tr>\n",
       "    <tr>\n",
       "      <th>CCMSLIB00005914380</th>\n",
       "      <td>0.221077</td>\n",
       "    </tr>\n",
       "    <tr>\n",
       "      <th>CCMSLIB00006056045</th>\n",
       "      <td>0.191989</td>\n",
       "    </tr>\n",
       "    <tr>\n",
       "      <th>CCMSLIB00005914391</th>\n",
       "      <td>0.189660</td>\n",
       "    </tr>\n",
       "    <tr>\n",
       "      <th>CCMSLIB00005914553</th>\n",
       "      <td>0.189660</td>\n",
       "    </tr>\n",
       "    <tr>\n",
       "      <th>CCMSLIB00006015384</th>\n",
       "      <td>0.183075</td>\n",
       "    </tr>\n",
       "    <tr>\n",
       "      <th>CCMSLIB00005987253</th>\n",
       "      <td>0.158713</td>\n",
       "    </tr>\n",
       "    <tr>\n",
       "      <th>CCMSLIB00006056696</th>\n",
       "      <td>0.157750</td>\n",
       "    </tr>\n",
       "    <tr>\n",
       "      <th>CCMSLIB00006015008</th>\n",
       "      <td>0.155292</td>\n",
       "    </tr>\n",
       "    <tr>\n",
       "      <th>CCMSLIB00006056025</th>\n",
       "      <td>0.153557</td>\n",
       "    </tr>\n",
       "  </tbody>\n",
       "</table>\n",
       "</div>"
      ],
      "text/plain": [
       "                           score\n",
       "matches of spectrum #1          \n",
       "CCMSLIB00006015264      0.231717\n",
       "CCMSLIB00005914380      0.221077\n",
       "CCMSLIB00006056045      0.191989\n",
       "CCMSLIB00005914391      0.189660\n",
       "CCMSLIB00005914553      0.189660\n",
       "CCMSLIB00006015384      0.183075\n",
       "CCMSLIB00005987253      0.158713\n",
       "CCMSLIB00006056696      0.157750\n",
       "CCMSLIB00006015008      0.155292\n",
       "CCMSLIB00006056025      0.153557"
      ]
     },
     "execution_count": 7,
     "metadata": {},
     "output_type": "execute_result"
    }
   ],
   "source": [
    "result[0]"
   ]
  },
  {
   "cell_type": "code",
   "execution_count": 9,
   "id": "a26c2239-dcc2-432d-8a28-c9b8ae076003",
   "metadata": {},
   "outputs": [],
   "source": [
    "result[0].to_csv(\"spec2vec_best_matches.csv\")"
   ]
  }
 ],
 "metadata": {
  "kernelspec": {
   "display_name": "Python 3",
   "language": "python",
   "name": "python3"
  },
  "language_info": {
   "codemirror_mode": {
    "name": "ipython",
    "version": 3
   },
   "file_extension": ".py",
   "mimetype": "text/x-python",
   "name": "python",
   "nbconvert_exporter": "python",
   "pygments_lexer": "ipython3",
   "version": "3.8.8"
  }
 },
 "nbformat": 4,
 "nbformat_minor": 5
}
