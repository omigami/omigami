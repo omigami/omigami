{
 "cells": [
  {
   "cell_type": "markdown",
   "metadata": {},
   "source": [
    "# Spec2Vec API – Quickstart\n",
    "\n",
    "*In order to use omigami, you need an access token provided by DataRevenue.*\n",
    "## Introduction\n",
    "\n",
    "This is a short guide on you can add GNPS library matches to your mass spectra - using Omigami's Spec2Vec API.\n",
    "\n",
    "The API uses a Spec2Vec model that was trained on the entire GNPS spectral library. It embeds each of your spectra into a vector space and calculates the cosine similarity to all GNPS library spectra in this vector space. It then returns you the top library matches for each of your spectra. To learn more about Spec2Vec read our gentle introduction: [Spec2Vec: The Next Step in Mass Spectral Similarity Metrics](https://www.datarevenue.com/en-blog/spec2vec-mass-spectral-similarity-metric)\n",
    "\n",
    "This notebook shows you how \n",
    "1. Specify any MGF file\n",
    "2. Run a library search through the Spec2Vec API\n",
    "3. Save the results as XLSX."
   ]
  },
  {
   "cell_type": "markdown",
   "metadata": {},
   "source": [
    "# 1. (Down)load a MS/MS dataset (MGF format)\n",
    "\n",
    "We'll use a small MS/MS dataset in the MGF format from [here](https://gnps-external.ucsd.edu/gnpslibrary/GNPS-COLLECTIONS-MISC.mgf).\n",
    "You can also select any other from the [GNPS spectral library](https://gnps-external.ucsd.edu/gnpslibrary), or - of course - use your own.\n",
    "\n",
    "*Note that you will need the Precursor_MZ field `PEPMASS` and the abundance pairs in your MGF file.*"
   ]
  },
  {
   "cell_type": "code",
   "execution_count": 1,
   "metadata": {
    "id": "cHX57WiaVX_o"
   },
   "outputs": [],
   "source": [
    "# Load your own MS/MS dataset (and skip the next cell)\n",
    "path_to_mgf = 'GNPS-COLLECTIONS-MISC.mgf'"
   ]
  },
  {
   "cell_type": "code",
   "execution_count": 2,
   "metadata": {
    "colab": {
     "base_uri": "https://localhost:8080/"
    },
    "id": "hfGUAXVbqUEx",
    "outputId": "244423a2-79ff-42c5-b13c-7c98afeca797"
   },
   "outputs": [
    {
     "data": {
      "text/plain": [
       "('GNPS-COLLECTIONS-MISC.mgf', <http.client.HTTPMessage at 0x7fdf0156afa0>)"
      ]
     },
     "execution_count": 2,
     "metadata": {},
     "output_type": "execute_result"
    }
   ],
   "source": [
    "# OR download a small MS/MS dataset from GNPS, in the same directory as this notebook\n",
    "import urllib.request\n",
    "\n",
    "url = 'https://gnps-external.ucsd.edu/gnpslibrary/GNPS-COLLECTIONS-MISC.mgf'\n",
    "\n",
    "path_to_mgf = f'GNPS-COLLECTIONS-MISC.mgf' # use your prefered saving path here\n",
    "\n",
    "urllib.request.urlretrieve(url, path_to_mgf)"
   ]
  },
  {
   "cell_type": "markdown",
   "metadata": {},
   "source": [
    "# 2. Query for the best matches with Spec2Vec\n",
    "\n",
    "`Spec2Vec` is a python wrapper which :\n",
    "- Builds a json payload from the MGF file\n",
    "- Calls the Spec2Vec API\n",
    "- Formats the prediction results into readable dataframes\n",
    "\n",
    "____\n",
    "- `n_best` sets the number of matches you'd like per spectrum (it is set to 10 by default).\n",
    "\n",
    "In the results dataframes, the input spectra can be identified by their number in the dataframes index, which refers to their order in the MGF file.  \n",
    "*i.e.* `matches of spectrum 1` gives the spectrum_id and Spec2Vec scores of the library spectra matches, for the first spectrum in the MGF file.\n",
    "\n",
    "For each spectrum in the MGF file, the library spectra matches are sorted according to their Spec2Vec similarity score (best is first).   \n",
    "The following information about the predicted spectra are returned :\n",
    "- `score`, the Spec2Vec similarity score between the input spectrum and the library spectrum\n",
    "- `matches of spectrum #`, the spectrum_ID of the matched library spectra for the spectrum number # in the MGF file"
   ]
  },
  {
   "cell_type": "code",
   "execution_count": 3,
   "metadata": {
    "id": "fLx7vmXRIjIg"
   },
   "outputs": [],
   "source": [
    "from omigami import Spec2Vec"
   ]
  },
  {
   "cell_type": "code",
   "execution_count": 4,
   "metadata": {
    "id": "BHMpFDN2Pq8Z"
   },
   "outputs": [],
   "source": [
    "# Initialize the client with your user token\n",
    "spec2vec = Spec2Vec(token=\"token\")"
   ]
  },
  {
   "cell_type": "code",
   "execution_count": 5,
   "metadata": {},
   "outputs": [],
   "source": [
    "# Run Spec2Vec library search\n",
    "spectra_matches = spec2vec.match_spectra_from_path(\n",
    "    path_to_mgf,\n",
    "    n_best=10,\n",
    "    include_metadata=[\"smiles\", \"compound_name\"],\n",
    "    ion_mode=\"negative\"\n",
    ")"
   ]
  },
  {
   "cell_type": "markdown",
   "metadata": {},
   "source": [
    "## 2.1 View results\n",
    "A list of dataframes is returned. To look at a specific dataframe you can call :\n",
    "```python\n",
    "spec2vec_matches[i]  # 'i' refers to the (i+1)th spectrum in the MGF file input\n",
    "```"
   ]
  },
  {
   "cell_type": "code",
   "execution_count": 6,
   "metadata": {},
   "outputs": [
    {
     "data": {
      "text/html": [
       "<div>\n",
       "<style scoped>\n",
       "    .dataframe tbody tr th:only-of-type {\n",
       "        vertical-align: middle;\n",
       "    }\n",
       "\n",
       "    .dataframe tbody tr th {\n",
       "        vertical-align: top;\n",
       "    }\n",
       "\n",
       "    .dataframe thead th {\n",
       "        text-align: right;\n",
       "    }\n",
       "</style>\n",
       "<table border=\"1\" class=\"dataframe\">\n",
       "  <thead>\n",
       "    <tr style=\"text-align: right;\">\n",
       "      <th></th>\n",
       "      <th>compound_name</th>\n",
       "      <th>score</th>\n",
       "      <th>smiles</th>\n",
       "    </tr>\n",
       "    <tr>\n",
       "      <th>matches of spectrum-0</th>\n",
       "      <th></th>\n",
       "      <th></th>\n",
       "      <th></th>\n",
       "    </tr>\n",
       "  </thead>\n",
       "  <tbody>\n",
       "    <tr>\n",
       "      <th>CCMSLIB00001058175</th>\n",
       "      <td>Eicosanoids_15kPGF1?_C20H34O5</td>\n",
       "      <td>1</td>\n",
       "      <td></td>\n",
       "    </tr>\n",
       "    <tr>\n",
       "      <th>CCMSLIB00004751408</th>\n",
       "      <td>\"2,4-Dichlorolichexanthone\"</td>\n",
       "      <td>0.384953</td>\n",
       "      <td>O=C1C2=C(C=C(C=C2C)OC)OC3=C1C(O)=C(C(OC)=C3Cl)Cl</td>\n",
       "    </tr>\n",
       "    <tr>\n",
       "      <th>CCMSLIB00005738961</th>\n",
       "      <td>19S-Methoxytubotaiwine</td>\n",
       "      <td>0.434801</td>\n",
       "      <td>COC(C)C1C2N3CCC22C(NC4=CC=CC=C24)=C(C1CC3)C(=O)OC</td>\n",
       "    </tr>\n",
       "    <tr>\n",
       "      <th>CCMSLIB00005739135</th>\n",
       "      <td>Humantenine</td>\n",
       "      <td>0.416979</td>\n",
       "      <td>CON1C(=O)C2(CC3C4COC2CC4C(CN3C)=CC)C2=CC=CC=C12</td>\n",
       "    </tr>\n",
       "    <tr>\n",
       "      <th>CCMSLIB00005742069</th>\n",
       "      <td>19S-Methoxytubotaiwine</td>\n",
       "      <td>0.40437</td>\n",
       "      <td>COC(C)C1C2N3CCC22C(NC4=CC=CC=C24)=C(C1CC3)C(=O)OC</td>\n",
       "    </tr>\n",
       "    <tr>\n",
       "      <th>CCMSLIB00005743155</th>\n",
       "      <td>19S-Methoxytubotaiwine</td>\n",
       "      <td>0.365796</td>\n",
       "      <td>COC(C)C1C2N3CCC22C(NC4=CC=CC=C24)=C(C1CC3)C(=O)OC</td>\n",
       "    </tr>\n",
       "    <tr>\n",
       "      <th>CCMSLIB00005743905</th>\n",
       "      <td>Rauwolscine</td>\n",
       "      <td>0.379334</td>\n",
       "      <td>COC(=O)C1C(O)CCC2CN3CCC4=C(NC5=CC=CC=C45)C3CC12</td>\n",
       "    </tr>\n",
       "    <tr>\n",
       "      <th>CCMSLIB00005745334</th>\n",
       "      <td>Humantenine</td>\n",
       "      <td>0.395016</td>\n",
       "      <td>CON1C(=O)C2(CC3C4COC2CC4C(CN3C)=CC)C2=CC=CC=C12</td>\n",
       "    </tr>\n",
       "    <tr>\n",
       "      <th>CCMSLIB00005747956</th>\n",
       "      <td>Corynanthine</td>\n",
       "      <td>0.3895</td>\n",
       "      <td>COC(=O)C1C(O)CCC2CN3CCC4=C(NC5=CC=CC=C45)C3CC12</td>\n",
       "    </tr>\n",
       "    <tr>\n",
       "      <th>CCMSLIB00005771900</th>\n",
       "      <td>BML00587 Corynanthine</td>\n",
       "      <td>0.378766</td>\n",
       "      <td>COC(=O)[C@@H]1[C@H](CC[C@@H]2[C@@H]1C[C@H]3C4=...</td>\n",
       "    </tr>\n",
       "  </tbody>\n",
       "</table>\n",
       "</div>"
      ],
      "text/plain": [
       "                                       compound_name     score  \\\n",
       "matches of spectrum-0                                            \n",
       "CCMSLIB00001058175     Eicosanoids_15kPGF1?_C20H34O5         1   \n",
       "CCMSLIB00004751408       \"2,4-Dichlorolichexanthone\"  0.384953   \n",
       "CCMSLIB00005738961            19S-Methoxytubotaiwine  0.434801   \n",
       "CCMSLIB00005739135                       Humantenine  0.416979   \n",
       "CCMSLIB00005742069            19S-Methoxytubotaiwine   0.40437   \n",
       "CCMSLIB00005743155            19S-Methoxytubotaiwine  0.365796   \n",
       "CCMSLIB00005743905                       Rauwolscine  0.379334   \n",
       "CCMSLIB00005745334                       Humantenine  0.395016   \n",
       "CCMSLIB00005747956                      Corynanthine    0.3895   \n",
       "CCMSLIB00005771900             BML00587 Corynanthine  0.378766   \n",
       "\n",
       "                                                                  smiles  \n",
       "matches of spectrum-0                                                     \n",
       "CCMSLIB00001058175                                                        \n",
       "CCMSLIB00004751408      O=C1C2=C(C=C(C=C2C)OC)OC3=C1C(O)=C(C(OC)=C3Cl)Cl  \n",
       "CCMSLIB00005738961     COC(C)C1C2N3CCC22C(NC4=CC=CC=C24)=C(C1CC3)C(=O)OC  \n",
       "CCMSLIB00005739135       CON1C(=O)C2(CC3C4COC2CC4C(CN3C)=CC)C2=CC=CC=C12  \n",
       "CCMSLIB00005742069     COC(C)C1C2N3CCC22C(NC4=CC=CC=C24)=C(C1CC3)C(=O)OC  \n",
       "CCMSLIB00005743155     COC(C)C1C2N3CCC22C(NC4=CC=CC=C24)=C(C1CC3)C(=O)OC  \n",
       "CCMSLIB00005743905       COC(=O)C1C(O)CCC2CN3CCC4=C(NC5=CC=CC=C45)C3CC12  \n",
       "CCMSLIB00005745334       CON1C(=O)C2(CC3C4COC2CC4C(CN3C)=CC)C2=CC=CC=C12  \n",
       "CCMSLIB00005747956       COC(=O)C1C(O)CCC2CN3CCC4=C(NC5=CC=CC=C45)C3CC12  \n",
       "CCMSLIB00005771900     COC(=O)[C@@H]1[C@H](CC[C@@H]2[C@@H]1C[C@H]3C4=...  "
      ]
     },
     "execution_count": 6,
     "metadata": {},
     "output_type": "execute_result"
    }
   ],
   "source": [
    "spectra_matches[0]"
   ]
  },
  {
   "cell_type": "markdown",
   "metadata": {},
   "source": [
    "# 3. Save results\n",
    "\n",
    "Execute the following cell to save the results in an Excel file. For readability, each dataframe is saved in its own csv file under the matches directory."
   ]
  },
  {
   "cell_type": "code",
   "execution_count": 7,
   "metadata": {},
   "outputs": [],
   "source": [
    "import os\n",
    "os.makedirs(\"matches\", exist_ok=True)\n",
    "for i, spectrum_matches in enumerate(spectra_matches):\n",
    "    spectrum_matches.to_csv(f\"matches/spectrum_{i}.csv\")"
   ]
  },
  {
   "cell_type": "markdown",
   "metadata": {
    "id": "fxZC5erYIjIq"
   },
   "source": [
    "____"
   ]
  }
 ],
 "metadata": {
  "colab": {
   "collapsed_sections": [],
   "name": "Spec2Vec predictions API documentation.ipynb",
   "provenance": []
  },
  "kernelspec": {
   "display_name": "Python 3",
   "language": "python",
   "name": "python3"
  },
  "language_info": {
   "codemirror_mode": {
    "name": "ipython",
    "version": 3
   },
   "file_extension": ".py",
   "mimetype": "text/x-python",
   "name": "python",
   "nbconvert_exporter": "python",
   "pygments_lexer": "ipython3",
   "version": "3.8.8"
  }
 },
 "nbformat": 4,
 "nbformat_minor": 4
}
