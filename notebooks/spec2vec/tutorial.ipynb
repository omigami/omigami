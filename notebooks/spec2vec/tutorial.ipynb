{
 "cells": [
  {
   "cell_type": "markdown",
   "metadata": {},
   "source": [
    "# Spec2Vec API – Quickstart\n",
    "\n",
    "*In order to use omigami, you need an access token provided by DataRevenue.*\n",
    "## Introduction\n",
    "\n",
    "This is a short guide on how you can add GNPS library matches to your mass spectra - using Omigami's Spec2Vec API.\n",
    "\n",
    "The API uses a Spec2Vec model that was trained on the entire GNPS spectral library. It embeds each of your spectra into a vector space and calculates the cosine similarity to all GNPS library spectra in this vector space. It then returns you the top library matches for each of your spectra. To learn more about Spec2Vec read our gentle introduction: [Spec2Vec: The Next Step in Mass Spectral Similarity Metrics](https://www.datarevenue.com/en-blog/spec2vec-mass-spectral-similarity-metric)\n",
    "\n",
    "This notebook shows you how \n",
    "1. Specify any MGF file\n",
    "2. Run a library search through the Spec2Vec API\n",
    "3. Save the results as XLSX.\n",
    "\n",
    "Before starting, make sure you have an omigami.com account and have setup your credentials in your working machine like described [here](https://github.com/omigami/omigami#configuration)"
   ]
  },
  {
   "cell_type": "markdown",
   "metadata": {},
   "source": [
    "# 1. (Down)load a MS/MS dataset (MGF format)\n",
    "\n",
    "We'll use a small MS/MS dataset in the MGF format from [here](https://gnps-external.ucsd.edu/gnpslibrary/GNPS-COLLECTIONS-MISC.mgf).\n",
    "You can also select any other from the [GNPS spectral library](https://gnps-external.ucsd.edu/gnpslibrary), or - of course - use your own.\n",
    "\n",
    "*Note that you will need the Precursor_MZ field `PEPMASS` and the abundance pairs in your MGF file.*"
   ]
  },
  {
   "cell_type": "code",
   "execution_count": 4,
   "metadata": {
    "id": "cHX57WiaVX_o"
   },
   "outputs": [],
   "source": [
    "# Load your own MS/MS dataset (and skip the next cell)\n",
    "path_to_mgf = 'GNPS-COLLECTIONS-MISC.mgf'"
   ]
  },
  {
   "cell_type": "code",
   "execution_count": 5,
   "metadata": {
    "colab": {
     "base_uri": "https://localhost:8080/"
    },
    "id": "hfGUAXVbqUEx",
    "outputId": "244423a2-79ff-42c5-b13c-7c98afeca797"
   },
   "outputs": [
    {
     "data": {
      "text/plain": [
       "('GNPS-COLLECTIONS-MISC.mgf', <http.client.HTTPMessage at 0x7fe21182ca90>)"
      ]
     },
     "execution_count": 5,
     "metadata": {},
     "output_type": "execute_result"
    }
   ],
   "source": [
    "# OR download a small MS/MS dataset from GNPS, in the same directory as this notebook\n",
    "import urllib.request\n",
    "\n",
    "url = 'https://gnps-external.ucsd.edu/gnpslibrary/GNPS-COLLECTIONS-MISC.mgf'\n",
    "\n",
    "path_to_mgf = f'GNPS-COLLECTIONS-MISC.mgf' # use your prefered saving path here\n",
    "\n",
    "urllib.request.urlretrieve(url, path_to_mgf)"
   ]
  },
  {
   "cell_type": "markdown",
   "metadata": {},
   "source": [
    "# 2. Query for the best matches with Spec2Vec\n",
    "\n",
    "`Spec2Vec` is a python wrapper which:\n",
    "- Builds a json payload from the MGF file\n",
    "- Calls the Spec2Vec API\n",
    "- Formats the prediction results into readable dataframes\n",
    "\n",
    "____\n",
    "`match_spectra()` takes the following arguments:\n",
    "- `n_best` sets the number of matches you'd like per spectrum (it is set to 10 by default).\n",
    "- `ion_mode` selects the ionization mode of the measured spectra (positive or negative)\n",
    "\n",
    "In the results dataframes, the input spectra can be identified by their number in the dataframes index, which refers to their order in the MGF file.  \n",
    "*i.e.* `matches of spectrum 1` gives the spectrum_id and Spec2Vec scores of the library spectra matches, for the first spectrum in the MGF file.\n",
    "\n",
    "For each spectrum in the MGF file, the library spectra matches are sorted according to their Spec2Vec similarity score (best is first).   \n",
    "The following information about the predicted spectra are returned:\n",
    "- `score`, the Spec2Vec similarity score between the input spectrum and the library spectrum\n",
    "- `matches of spectrum #`, the spectrum_ID of the matched library spectra for the spectrum number # in the MGF file\n",
    "- `metadata`, spectra matches metadata"
   ]
  },
  {
   "cell_type": "code",
   "execution_count": 1,
   "metadata": {
    "id": "fLx7vmXRIjIg"
   },
   "outputs": [],
   "source": [
    "from omigami import Spec2Vec"
   ]
  },
  {
   "cell_type": "code",
   "execution_count": 2,
   "metadata": {
    "id": "BHMpFDN2Pq8Z"
   },
   "outputs": [],
   "source": [
    "# Initialize the client\n",
    "spec2vec = Spec2Vec()"
   ]
  },
  {
   "cell_type": "code",
   "execution_count": 6,
   "metadata": {},
   "outputs": [
    {
     "ename": "ValueError",
     "evalue": "unsupported pickle protocol: 5",
     "output_type": "error",
     "traceback": [
      "\u001b[0;31m---------------------------------------------------------------------------\u001b[0m",
      "\u001b[0;31mValueError\u001b[0m                                Traceback (most recent call last)",
      "\u001b[0;32m/var/folders/9p/638_byp16zx8z_c3bf434z8h0000gn/T/ipykernel_83316/3914620272.py\u001b[0m in \u001b[0;36m<module>\u001b[0;34m\u001b[0m\n\u001b[1;32m      3\u001b[0m     \u001b[0mpath_to_mgf\u001b[0m\u001b[0;34m,\u001b[0m\u001b[0;34m\u001b[0m\u001b[0;34m\u001b[0m\u001b[0m\n\u001b[1;32m      4\u001b[0m     \u001b[0mn_best\u001b[0m\u001b[0;34m=\u001b[0m\u001b[0;36m10\u001b[0m\u001b[0;34m,\u001b[0m\u001b[0;34m\u001b[0m\u001b[0;34m\u001b[0m\u001b[0m\n\u001b[0;32m----> 5\u001b[0;31m     \u001b[0mion_mode\u001b[0m\u001b[0;34m=\u001b[0m\u001b[0;34m\"negative\"\u001b[0m\u001b[0;34m\u001b[0m\u001b[0;34m\u001b[0m\u001b[0m\n\u001b[0m\u001b[1;32m      6\u001b[0m )\n",
      "\u001b[0;32m~/dr/omigami_client/omigami/spectra_matching.py\u001b[0m in \u001b[0;36mmatch_spectra\u001b[0;34m(self, source, n_best, ion_mode)\u001b[0m\n\u001b[1;32m    103\u001b[0m             \u001b[0mset_token\u001b[0m\u001b[0;34m(\u001b[0m\u001b[0mself\u001b[0m\u001b[0;34m.\u001b[0m\u001b[0m_optional_token\u001b[0m\u001b[0;34m)\u001b[0m\u001b[0;34m\u001b[0m\u001b[0;34m\u001b[0m\u001b[0m\n\u001b[1;32m    104\u001b[0m         \u001b[0;32melse\u001b[0m\u001b[0;34m:\u001b[0m\u001b[0;34m\u001b[0m\u001b[0;34m\u001b[0m\u001b[0m\n\u001b[0;32m--> 105\u001b[0;31m             \u001b[0mauthenticate_client\u001b[0m\u001b[0;34m(\u001b[0m\u001b[0;34m)\u001b[0m\u001b[0;34m\u001b[0m\u001b[0;34m\u001b[0m\u001b[0m\n\u001b[0m\u001b[1;32m    106\u001b[0m \u001b[0;34m\u001b[0m\u001b[0m\n\u001b[1;32m    107\u001b[0m         \u001b[0mparameters\u001b[0m \u001b[0;34m=\u001b[0m \u001b[0mself\u001b[0m\u001b[0;34m.\u001b[0m\u001b[0m_build_parameters\u001b[0m\u001b[0;34m(\u001b[0m\u001b[0mn_best\u001b[0m\u001b[0;34m)\u001b[0m\u001b[0;34m\u001b[0m\u001b[0;34m\u001b[0m\u001b[0m\n",
      "\u001b[0;32m~/dr/omigami_client/omigami/authentication.py\u001b[0m in \u001b[0;36mauthenticate_client\u001b[0;34m()\u001b[0m\n\u001b[1;32m     53\u001b[0m     \"\"\"\n\u001b[1;32m     54\u001b[0m     \u001b[0;32mif\u001b[0m \u001b[0;32mnot\u001b[0m \u001b[0mAUTH\u001b[0m\u001b[0;34m.\u001b[0m\u001b[0mcredentials\u001b[0m\u001b[0;34m:\u001b[0m\u001b[0;34m\u001b[0m\u001b[0;34m\u001b[0m\u001b[0m\n\u001b[0;32m---> 55\u001b[0;31m         \u001b[0mAUTH\u001b[0m\u001b[0;34m.\u001b[0m\u001b[0mcredentials\u001b[0m \u001b[0;34m=\u001b[0m \u001b[0m_get_configured_credentials\u001b[0m\u001b[0;34m(\u001b[0m\u001b[0;34m)\u001b[0m\u001b[0;34m\u001b[0m\u001b[0;34m\u001b[0m\u001b[0m\n\u001b[0m\u001b[1;32m     56\u001b[0m \u001b[0;34m\u001b[0m\u001b[0m\n\u001b[1;32m     57\u001b[0m     \u001b[0;32mif\u001b[0m \u001b[0;32mnot\u001b[0m \u001b[0mAUTH\u001b[0m\u001b[0;34m.\u001b[0m\u001b[0msession_token\u001b[0m \u001b[0;32mor\u001b[0m \u001b[0mAUTH\u001b[0m\u001b[0;34m.\u001b[0m\u001b[0msession_expiration\u001b[0m \u001b[0;34m<=\u001b[0m \u001b[0mdatetime\u001b[0m\u001b[0;34m.\u001b[0m\u001b[0mnow\u001b[0m\u001b[0;34m(\u001b[0m\u001b[0;34m)\u001b[0m\u001b[0;34m:\u001b[0m\u001b[0;34m\u001b[0m\u001b[0;34m\u001b[0m\u001b[0m\n",
      "\u001b[0;32m~/dr/omigami_client/omigami/authentication.py\u001b[0m in \u001b[0;36m_get_configured_credentials\u001b[0;34m()\u001b[0m\n\u001b[1;32m    103\u001b[0m     \u001b[0mcredentials\u001b[0m\u001b[0;34m:\u001b[0m \u001b[0mDict\u001b[0m\u001b[0;34m[\u001b[0m\u001b[0mstr\u001b[0m\u001b[0;34m,\u001b[0m \u001b[0mbytes\u001b[0m\u001b[0;34m]\u001b[0m\u001b[0;34m\u001b[0m\u001b[0;34m\u001b[0m\u001b[0m\n\u001b[1;32m    104\u001b[0m     \u001b[0;32mwith\u001b[0m \u001b[0mopen\u001b[0m\u001b[0;34m(\u001b[0m\u001b[0mpath\u001b[0m\u001b[0;34m,\u001b[0m \u001b[0;34m\"rb\"\u001b[0m\u001b[0;34m)\u001b[0m \u001b[0;32mas\u001b[0m \u001b[0mfile_handle\u001b[0m\u001b[0;34m:\u001b[0m\u001b[0;34m\u001b[0m\u001b[0;34m\u001b[0m\u001b[0m\n\u001b[0;32m--> 105\u001b[0;31m         \u001b[0mcredentials\u001b[0m \u001b[0;34m=\u001b[0m \u001b[0mpickle\u001b[0m\u001b[0;34m.\u001b[0m\u001b[0mload\u001b[0m\u001b[0;34m(\u001b[0m\u001b[0mfile_handle\u001b[0m\u001b[0;34m)\u001b[0m\u001b[0;34m\u001b[0m\u001b[0;34m\u001b[0m\u001b[0m\n\u001b[0m\u001b[1;32m    106\u001b[0m         \u001b[0;32mif\u001b[0m \u001b[0mlen\u001b[0m\u001b[0;34m(\u001b[0m\u001b[0mcredentials\u001b[0m\u001b[0;34m)\u001b[0m \u001b[0;34m==\u001b[0m \u001b[0;36m0\u001b[0m\u001b[0;34m:\u001b[0m\u001b[0;34m\u001b[0m\u001b[0;34m\u001b[0m\u001b[0m\n\u001b[1;32m    107\u001b[0m             raise ConfigurationError(\n",
      "\u001b[0;31mValueError\u001b[0m: unsupported pickle protocol: 5"
     ]
    }
   ],
   "source": [
    "# Run Spec2Vec library search\n",
    "spectra_matches = spec2vec.match_spectra(\n",
    "    path_to_mgf,\n",
    "    n_best=10,\n",
    "    ion_mode=\"negative\"\n",
    ")"
   ]
  },
  {
   "cell_type": "markdown",
   "metadata": {},
   "source": [
    "## 2.1 View results\n",
    "A list of dataframes is returned. To look at a specific dataframe you can call:\n",
    "```python\n",
    "spec2vec_matches[i]  # 'i' refers to the (i+1)th spectrum in the MGF file input\n",
    "```"
   ]
  },
  {
   "cell_type": "code",
   "execution_count": null,
   "metadata": {},
   "outputs": [],
   "source": [
    "spectra_matches[1]"
   ]
  },
  {
   "cell_type": "markdown",
   "metadata": {},
   "source": [
    "# 3. Save results\n",
    "\n",
    "Execute the following cell to save the results in an Excel file. For readability, each dataframe is saved in its own csv file under the matches directory."
   ]
  },
  {
   "cell_type": "code",
   "execution_count": null,
   "metadata": {},
   "outputs": [],
   "source": [
    "import os\n",
    "os.makedirs(\"matches\", exist_ok=True)\n",
    "for i, spectrum_matches in enumerate(spectra_matches):\n",
    "    spectrum_matches.to_csv(f\"matches/spectrum_{i}.csv\")"
   ]
  },
  {
   "cell_type": "markdown",
   "metadata": {},
   "source": [
    "# 4. Create Plots\n",
    "\n",
    "The following cell will show you an example of how to visualize your matches."
   ]
  },
  {
   "cell_type": "code",
   "execution_count": null,
   "metadata": {},
   "outputs": [],
   "source": [
    "from omigami import MoleculePlotter\n",
    "plotter = MoleculePlotter()"
   ]
  },
  {
   "cell_type": "markdown",
   "metadata": {},
   "source": [
    "### Creating a Plot of the molecular structure"
   ]
  },
  {
   "cell_type": "code",
   "execution_count": null,
   "metadata": {},
   "outputs": [],
   "source": [
    "plotter.plot_molecule_structure_grid(\n",
    "    spectra_matches[1], \n",
    "    draw_indices=True, \n",
    "    molecule_image_size=[600, 600], \n",
    "    substructure_highlight=\"C(=O)\"\n",
    ")"
   ]
  },
  {
   "cell_type": "markdown",
   "metadata": {},
   "source": [
    "### Creating a Plot using the ClassyFire APIm"
   ]
  },
  {
   "cell_type": "code",
   "execution_count": 9,
   "metadata": {},
   "outputs": [
    {
     "data": {
      "text/plain": [
       "<BarContainer object of 4 artists>"
      ]
     },
     "execution_count": 9,
     "metadata": {},
     "output_type": "execute_result"
    },
    {
     "data": {
      "image/png": "[encoded data removed]",
      "text/plain": [
       "<Figure size 432x288 with 1 Axes>"
      ]
     },
     "metadata": {
      "needs_background": "light"
     },
     "output_type": "display_data"
    }
   ],
   "source": [
    "plotter.plot_classyfire_result(spectra_matches[1])"
   ]
  },
  {
   "cell_type": "markdown",
   "metadata": {},
   "source": [
    "### Creating a Plot using the NP-Classifier API"
   ]
  },
  {
   "cell_type": "code",
   "execution_count": 10,
   "metadata": {},
   "outputs": [
    {
     "data": {
      "text/plain": [
       "<BarContainer object of 2 artists>"
      ]
     },
     "execution_count": 10,
     "metadata": {},
     "output_type": "execute_result"
    },
    {
     "data": {
      "image/png": "[encoded data removed]",
      "text/plain": [
       "<Figure size 432x288 with 1 Axes>"
      ]
     },
     "metadata": {
      "needs_background": "light"
     },
     "output_type": "display_data"
    }
   ],
   "source": [
    "plotter.plot_NPclassifier_result(spectra_matches[1], color='orange')"
   ]
  },
  {
   "cell_type": "markdown",
   "metadata": {
    "id": "fxZC5erYIjIq"
   },
   "source": [
    "____"
   ]
  }
 ],
 "metadata": {
  "colab": {
   "collapsed_sections": [],
   "name": "Spec2Vec predictions API documentation.ipynb",
   "provenance": []
  },
  "kernelspec": {
   "display_name": "Python 3 (ipykernel)",
   "language": "python",
   "name": "python3"
  },
  "language_info": {
   "codemirror_mode": {
    "name": "ipython",
    "version": 3
   },
   "file_extension": ".py",
   "mimetype": "text/x-python",
   "name": "python",
   "nbconvert_exporter": "python",
   "pygments_lexer": "ipython3",
   "version": "3.7.11"
  }
 },
 "nbformat": 4,
 "nbformat_minor": 4
}
