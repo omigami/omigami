{
 "cells": [
  {
   "cell_type": "markdown",
   "metadata": {},
   "source": [
    "# Spec2Vec API – Quickstart\n",
    "\n",
    "*In order to use omigami, you need an access token provided by DataRevenue.*\n",
    "## Introduction\n",
    "\n",
    "This is a short guide on how you can add GNPS library matches to your mass spectra - using Omigami's Spec2Vec API.\n",
    "\n",
    "The API uses a Spec2Vec model that was trained on the entire GNPS spectral library. It embeds each of your spectra into a vector space and calculates the cosine similarity to all GNPS library spectra in this vector space. It then returns you the top library matches for each of your spectra. To learn more about Spec2Vec read our gentle introduction: [Spec2Vec: The Next Step in Mass Spectral Similarity Metrics](https://www.datarevenue.com/en-blog/spec2vec-mass-spectral-similarity-metric)\n",
    "\n",
    "This notebook shows you how \n",
    "1. Specify any MGF file\n",
    "2. Run a library search through the Spec2Vec API\n",
    "3. Save the results as XLSX."
   ]
  },
  {
   "cell_type": "markdown",
   "metadata": {},
   "source": [
    "# 1. (Down)load a MS/MS dataset (MGF format)\n",
    "\n",
    "We'll use a small MS/MS dataset in the MGF format from [here](https://gnps-external.ucsd.edu/gnpslibrary/GNPS-COLLECTIONS-MISC.mgf).\n",
    "You can also select any other from the [GNPS spectral library](https://gnps-external.ucsd.edu/gnpslibrary), or - of course - use your own.\n",
    "\n",
    "*Note that you will need the Precursor_MZ field `PEPMASS` and the abundance pairs in your MGF file.*"
   ]
  },
  {
   "cell_type": "code",
   "execution_count": null,
   "metadata": {
    "id": "cHX57WiaVX_o"
   },
   "outputs": [],
   "source": [
    "# Load your own MS/MS dataset (and skip the next cell)\n",
    "path_to_mgf = 'GNPS-COLLECTIONS-MISC.mgf'"
   ]
  },
  {
   "cell_type": "code",
   "execution_count": 1,
   "metadata": {
    "colab": {
     "base_uri": "https://localhost:8080/"
    },
    "id": "hfGUAXVbqUEx",
    "outputId": "244423a2-79ff-42c5-b13c-7c98afeca797"
   },
   "outputs": [
    {
     "data": {
      "text/plain": [
       "('GNPS-COLLECTIONS-MISC.mgf', <http.client.HTTPMessage at 0x7f99d54d5050>)"
      ]
     },
     "execution_count": 1,
     "metadata": {},
     "output_type": "execute_result"
    }
   ],
   "source": [
    "# OR download a small MS/MS dataset from GNPS, in the same directory as this notebook\n",
    "import urllib.request\n",
    "\n",
    "url = 'https://gnps-external.ucsd.edu/gnpslibrary/GNPS-COLLECTIONS-MISC.mgf'\n",
    "\n",
    "path_to_mgf = f'GNPS-COLLECTIONS-MISC.mgf' # use your prefered saving path here\n",
    "\n",
    "urllib.request.urlretrieve(url, path_to_mgf)"
   ]
  },
  {
   "cell_type": "markdown",
   "metadata": {},
   "source": [
    "# 2. Query for the best matches with Spec2Vec\n",
    "\n",
    "`Spec2Vec` is a python wrapper which :\n",
    "- Builds a json payload from the MGF file\n",
    "- Calls the Spec2Vec API\n",
    "- Formats the prediction results into readable dataframes\n",
    "\n",
    "____\n",
    "- `n_best` sets the number of matches you'd like per spectrum (it is set to 10 by default).\n",
    "- `include_metadata` selects the metadata fields that will be displayed in the resulting top matches.\n",
    "- `ion_mode` selects the ionization mode of the measured spectra (positive or negative)\n",
    "\n",
    "In the results dataframes, the input spectra can be identified by their number in the dataframes index, which refers to their order in the MGF file.  \n",
    "*i.e.* `matches of spectrum 1` gives the spectrum_id and Spec2Vec scores of the library spectra matches, for the first spectrum in the MGF file.\n",
    "\n",
    "For each spectrum in the MGF file, the library spectra matches are sorted according to their Spec2Vec similarity score (best is first).   \n",
    "The following information about the predicted spectra are returned :\n",
    "- `score`, the Spec2Vec similarity score between the input spectrum and the library spectrum\n",
    "- `matches of spectrum #`, the spectrum_ID of the matched library spectra for the spectrum number # in the MGF file\n",
    "- `metadata`, metadata fields chosen with `include_metadata` in the input"
   ]
  },
  {
   "cell_type": "code",
   "execution_count": 2,
   "metadata": {
    "id": "fLx7vmXRIjIg"
   },
   "outputs": [],
   "source": [
    "from omigami import Spec2Vec"
   ]
  },
  {
   "cell_type": "code",
   "execution_count": 3,
   "metadata": {
    "id": "BHMpFDN2Pq8Z"
   },
   "outputs": [],
   "source": [
    "# Initialize the client with your user token\n",
    "spec2vec = Spec2Vec(token=\"Valide Omigami Token\")"
   ]
  },
  {
   "cell_type": "code",
   "execution_count": 4,
   "metadata": {},
   "outputs": [],
   "source": [
    "# Run Spec2Vec library search\n",
    "spectra_matches = spec2vec.match_spectra_from_path(\n",
    "    path_to_mgf,\n",
    "    n_best=10,\n",
    "    include_metadata=[\"smiles\", \"compound_name\"],\n",
    "    ion_mode=\"negative\"\n",
    ")"
   ]
  },
  {
   "cell_type": "markdown",
   "metadata": {},
   "source": [
    "## 2.1 View results\n",
    "A list of dataframes is returned. To look at a specific dataframe you can call :\n",
    "```python\n",
    "spec2vec_matches[i]  # 'i' refers to the (i+1)th spectrum in the MGF file input\n",
    "```"
   ]
  },
  {
   "cell_type": "code",
   "execution_count": 5,
   "metadata": {},
   "outputs": [
    {
     "data": {
      "text/html": [
       "<div>\n",
       "<style scoped>\n",
       "    .dataframe tbody tr th:only-of-type {\n",
       "        vertical-align: middle;\n",
       "    }\n",
       "\n",
       "    .dataframe tbody tr th {\n",
       "        vertical-align: top;\n",
       "    }\n",
       "\n",
       "    .dataframe thead th {\n",
       "        text-align: right;\n",
       "    }\n",
       "</style>\n",
       "<table border=\"1\" class=\"dataframe\">\n",
       "  <thead>\n",
       "    <tr style=\"text-align: right;\">\n",
       "      <th></th>\n",
       "      <th>compound_name</th>\n",
       "      <th>score</th>\n",
       "      <th>smiles</th>\n",
       "    </tr>\n",
       "    <tr>\n",
       "      <th>matches of spectrum-1</th>\n",
       "      <th></th>\n",
       "      <th></th>\n",
       "      <th></th>\n",
       "    </tr>\n",
       "  </thead>\n",
       "  <tbody>\n",
       "    <tr>\n",
       "      <th>CCMSLIB00000572119</th>\n",
       "      <td>Protamodin</td>\n",
       "      <td>0.30231</td>\n",
       "      <td>CCCCC[C@@H](/C=C/[C@H]1[C@@H](C[C@@H]([C@@H]1C...</td>\n",
       "    </tr>\n",
       "    <tr>\n",
       "      <th>CCMSLIB00005728142</th>\n",
       "      <td>9a,11a-PGF2</td>\n",
       "      <td>0.30231</td>\n",
       "      <td>CCCCC[C@@H](/C=C/[C@H]1[C@@H](C[C@@H]([C@@H]1C...</td>\n",
       "    </tr>\n",
       "    <tr>\n",
       "      <th>CCMSLIB00005740783</th>\n",
       "      <td>Corynanthine</td>\n",
       "      <td>0.344545</td>\n",
       "      <td>COC(=O)C1C(O)CCC2CN3CCC4=C(NC5=CC=CC=C45)C3CC12</td>\n",
       "    </tr>\n",
       "    <tr>\n",
       "      <th>CCMSLIB00005741843</th>\n",
       "      <td>Humantenine</td>\n",
       "      <td>0.3118</td>\n",
       "      <td>CON1C(=O)C2(CC3C4COC2CC4C(CN3C)=CC)C2=CC=CC=C12</td>\n",
       "    </tr>\n",
       "    <tr>\n",
       "      <th>CCMSLIB00005742094</th>\n",
       "      <td>19S-Methoxytubotaiwine</td>\n",
       "      <td>0.30789</td>\n",
       "      <td>COC(C)C1C2N3CCC22C(NC4=CC=CC=C24)=C(C1CC3)C(=O)OC</td>\n",
       "    </tr>\n",
       "    <tr>\n",
       "      <th>CCMSLIB00005745736</th>\n",
       "      <td>Rauwolscine</td>\n",
       "      <td>0.305127</td>\n",
       "      <td>COC(=O)C1C(O)CCC2CN3CCC4=C(NC5=CC=CC=C45)C3CC12</td>\n",
       "    </tr>\n",
       "    <tr>\n",
       "      <th>CCMSLIB00005751722</th>\n",
       "      <td>9a,11a-PGF2</td>\n",
       "      <td>0.353382</td>\n",
       "      <td>CCCCC[C@@H](/C=C/[C@H]1[C@@H](C[C@@H]([C@@H]1C...</td>\n",
       "    </tr>\n",
       "    <tr>\n",
       "      <th>CCMSLIB00005752029</th>\n",
       "      <td>9a,11a-PGF2</td>\n",
       "      <td>0.413232</td>\n",
       "      <td>CCCCC[C@@H](/C=C/[C@H]1[C@@H](C[C@@H]([C@@H]1C...</td>\n",
       "    </tr>\n",
       "    <tr>\n",
       "      <th>CCMSLIB00005752287</th>\n",
       "      <td>9a,11a-PGF2</td>\n",
       "      <td>0.339666</td>\n",
       "      <td>CCCCC[C@@H](/C=C/[C@H]1[C@@H](C[C@@H]([C@@H]1C...</td>\n",
       "    </tr>\n",
       "    <tr>\n",
       "      <th>CCMSLIB00005752753</th>\n",
       "      <td>9a,11a-PGF2</td>\n",
       "      <td>0.341612</td>\n",
       "      <td>CCCCC[C@@H](/C=C/[C@H]1[C@@H](C[C@@H]([C@@H]1C...</td>\n",
       "    </tr>\n",
       "  </tbody>\n",
       "</table>\n",
       "</div>"
      ],
      "text/plain": [
       "                                compound_name     score  \\\n",
       "matches of spectrum-1                                     \n",
       "CCMSLIB00000572119                 Protamodin   0.30231   \n",
       "CCMSLIB00005728142                9a,11a-PGF2   0.30231   \n",
       "CCMSLIB00005740783               Corynanthine  0.344545   \n",
       "CCMSLIB00005741843                Humantenine    0.3118   \n",
       "CCMSLIB00005742094     19S-Methoxytubotaiwine   0.30789   \n",
       "CCMSLIB00005745736                Rauwolscine  0.305127   \n",
       "CCMSLIB00005751722                9a,11a-PGF2  0.353382   \n",
       "CCMSLIB00005752029                9a,11a-PGF2  0.413232   \n",
       "CCMSLIB00005752287                9a,11a-PGF2  0.339666   \n",
       "CCMSLIB00005752753                9a,11a-PGF2  0.341612   \n",
       "\n",
       "                                                                  smiles  \n",
       "matches of spectrum-1                                                     \n",
       "CCMSLIB00000572119     CCCCC[C@@H](/C=C/[C@H]1[C@@H](C[C@@H]([C@@H]1C...  \n",
       "CCMSLIB00005728142     CCCCC[C@@H](/C=C/[C@H]1[C@@H](C[C@@H]([C@@H]1C...  \n",
       "CCMSLIB00005740783       COC(=O)C1C(O)CCC2CN3CCC4=C(NC5=CC=CC=C45)C3CC12  \n",
       "CCMSLIB00005741843       CON1C(=O)C2(CC3C4COC2CC4C(CN3C)=CC)C2=CC=CC=C12  \n",
       "CCMSLIB00005742094     COC(C)C1C2N3CCC22C(NC4=CC=CC=C24)=C(C1CC3)C(=O)OC  \n",
       "CCMSLIB00005745736       COC(=O)C1C(O)CCC2CN3CCC4=C(NC5=CC=CC=C45)C3CC12  \n",
       "CCMSLIB00005751722     CCCCC[C@@H](/C=C/[C@H]1[C@@H](C[C@@H]([C@@H]1C...  \n",
       "CCMSLIB00005752029     CCCCC[C@@H](/C=C/[C@H]1[C@@H](C[C@@H]([C@@H]1C...  \n",
       "CCMSLIB00005752287     CCCCC[C@@H](/C=C/[C@H]1[C@@H](C[C@@H]([C@@H]1C...  \n",
       "CCMSLIB00005752753     CCCCC[C@@H](/C=C/[C@H]1[C@@H](C[C@@H]([C@@H]1C...  "
      ]
     },
     "execution_count": 5,
     "metadata": {},
     "output_type": "execute_result"
    }
   ],
   "source": [
    "spectra_matches[1]"
   ]
  },
  {
   "cell_type": "markdown",
   "metadata": {},
   "source": [
    "# 3. Save results\n",
    "\n",
    "Execute the following cell to save the results in an Excel file. For readability, each dataframe is saved in its own csv file under the matches directory."
   ]
  },
  {
   "cell_type": "code",
   "execution_count": 6,
   "metadata": {},
   "outputs": [],
   "source": [
    "import os\n",
    "os.makedirs(\"matches\", exist_ok=True)\n",
    "for i, spectrum_matches in enumerate(spectra_matches):\n",
    "    spectrum_matches.to_csv(f\"matches/spectrum_{i}.csv\")"
   ]
  },
  {
   "cell_type": "markdown",
   "metadata": {
    "id": "fxZC5erYIjIq"
   },
   "source": [
    "____"
   ]
  }
 ],
 "metadata": {
  "colab": {
   "collapsed_sections": [],
   "name": "Spec2Vec predictions API documentation.ipynb",
   "provenance": []
  },
  "kernelspec": {
   "display_name": "Python 3 (ipykernel)",
   "language": "python",
   "name": "python3"
  },
  "language_info": {
   "codemirror_mode": {
    "name": "ipython",
    "version": 3
   },
   "file_extension": ".py",
   "mimetype": "text/x-python",
   "name": "python",
   "nbconvert_exporter": "python",
   "pygments_lexer": "ipython3",
   "version": "3.8.10"
  }
 },
 "nbformat": 4,
 "nbformat_minor": 4
}
