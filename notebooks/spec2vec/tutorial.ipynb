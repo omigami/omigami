{
 "cells": [
  {
   "cell_type": "markdown",
   "metadata": {},
   "source": [
    "# Spec2Vec API – Quickstart\n",
    "\n",
    "*In order to use omigami, you need an access token provided by DataRevenue.*\n",
    "## Introduction\n",
    "\n",
    "This is a short guide on how you can add GNPS library matches to your mass spectra - using Omigami's Spec2Vec API.\n",
    "\n",
    "The API uses a Spec2Vec model that was trained on the entire GNPS spectral library. It embeds each of your spectra into a vector space and calculates the cosine similarity to all GNPS library spectra in this vector space. It then returns you the top library matches for each of your spectra. To learn more about Spec2Vec read our gentle introduction: [Spec2Vec: The Next Step in Mass Spectral Similarity Metrics](https://www.datarevenue.com/en-blog/spec2vec-mass-spectral-similarity-metric)\n",
    "\n",
    "This notebook shows you how \n",
    "1. Specify any MGF file\n",
    "2. Run a library search through the Spec2Vec API\n",
    "3. Save the results as XLSX.\n",
    "\n",
    "Before starting, make sure you have an omigami.com account and have setup your credentials in your working machine like described [here](https://github.com/omigami/omigami#configuration)"
   ]
  },
  {
   "cell_type": "markdown",
   "metadata": {},
   "source": [
    "# 1. (Down)load an MS/MS dataset (MGF format)\n",
    "\n",
    "We'll use a small MS/MS dataset in the MGF format from [here](https://gnps-external.ucsd.edu/gnpslibrary/GNPS-COLLECTIONS-MISC.mgf).\n",
    "You can also select any other from the [GNPS spectral library](https://gnps-external.ucsd.edu/gnpslibrary), or - of course - use your own.\n",
    "\n",
    "*Note that you will need either `Precursor_MZ` or `PEPMASS` fields and the abundance pairs in your MGF file.*"
   ]
  },
  {
   "cell_type": "code",
   "execution_count": 1,
   "metadata": {
    "id": "cHX57WiaVX_o"
   },
   "outputs": [],
   "source": [
    "# Load your own MS/MS dataset (and skip the next cell)\n",
    "path_to_mgf = 'GNPS-COLLECTIONS-MISC.mgf'"
   ]
  },
  {
   "cell_type": "code",
   "execution_count": 2,
   "metadata": {
    "colab": {
     "base_uri": "https://localhost:8080/"
    },
    "id": "hfGUAXVbqUEx",
    "outputId": "244423a2-79ff-42c5-b13c-7c98afeca797"
   },
   "outputs": [
    {
     "data": {
      "text/plain": [
       "('GNPS-COLLECTIONS-MISC.mgf', <http.client.HTTPMessage at 0x7fd5c000e350>)"
      ]
     },
     "execution_count": 2,
     "metadata": {},
     "output_type": "execute_result"
    }
   ],
   "source": [
    "# OR download a small MS/MS dataset from GNPS, in the same directory as this notebook\n",
    "import urllib.request\n",
    "\n",
    "url = 'https://gnps-external.ucsd.edu/gnpslibrary/GNPS-COLLECTIONS-MISC.mgf'\n",
    "\n",
    "path_to_mgf = f'GNPS-COLLECTIONS-MISC.mgf' # use your prefered saving path here\n",
    "\n",
    "urllib.request.urlretrieve(url, path_to_mgf)"
   ]
  },
  {
   "cell_type": "markdown",
   "metadata": {},
   "source": [
    "# 2. Query for the best matches with Spec2Vec\n",
    "\n",
    "`Spec2Vec` is a python wrapper which:\n",
    "- Builds a json payload from the MGF file\n",
    "- Calls the Spec2Vec API\n",
    "- Formats the prediction results into readable dataframes\n",
    "\n",
    "____\n",
    "`match_spectra()` takes the following arguments:\n",
    "- `source` takes a string as a path to mgf file or a list of `matchms.Spectrum` objects.\n",
    "- `n_best` sets the number of matches you'd like per spectrum.\n",
    "- `ion_mode` selects the ionization mode of the measured spectra. (positive or negative)\n",
    "\n",
    "In the results dataframes, the input spectra can be identified by their number in the dataframes index, which refers to their order in the MGF file.\n",
    "*i.e.* `matches of spectrum 1` gives the spectrum_id and Spec2Vec scores of the library spectra matches, for the first spectrum in the MGF file.\n",
    "\n",
    "For each spectrum in the MGF file, the library spectra matches are sorted according to their Spec2Vec similarity score (best is first).   \n",
    "The following information about the predicted spectra are returned:\n",
    "- `score`, the Spec2Vec similarity score between the input spectrum and the library spectrum\n",
    "- `matches of spectrum #`, the spectrum_ID of the matched library spectra for the spectrum number # in the MGF file\n",
    "- `metadata`, all available metadata fields"
   ]
  },
  {
   "cell_type": "code",
   "execution_count": 3,
   "metadata": {
    "id": "fLx7vmXRIjIg"
   },
   "outputs": [],
   "source": [
    "from omigami.spectra_matching import Spec2Vec"
   ]
  },
  {
   "cell_type": "code",
   "execution_count": 4,
   "metadata": {
    "id": "BHMpFDN2Pq8Z"
   },
   "outputs": [],
   "source": [
    "# Initialize the client\n",
    "client = Spec2Vec()"
   ]
  },
  {
   "cell_type": "code",
   "execution_count": 5,
   "metadata": {},
   "outputs": [],
   "source": [
    "# Run Spec2Vec library search\n",
    "spectra_matches = client.match_spectra(\n",
    "    path_to_mgf,\n",
    "    n_best=10,\n",
    "    ion_mode=\"positive\"\n",
    ")"
   ]
  },
  {
   "cell_type": "markdown",
   "metadata": {},
   "source": [
    "## 2.1 View results\n",
    "A list of dataframes is returned. To look at a specific dataframe you can call:\n",
    "```python\n",
    "spec2vec_matches[i]  # 'i' refers to the index of the spectrum in the MGF file input\n",
    "```"
   ]
  },
  {
   "cell_type": "code",
   "execution_count": 6,
   "metadata": {},
   "outputs": [
    {
     "data": {
      "text/html": [
       "<div>\n",
       "<style scoped>\n",
       "    .dataframe tbody tr th:only-of-type {\n",
       "        vertical-align: middle;\n",
       "    }\n",
       "\n",
       "    .dataframe tbody tr th {\n",
       "        vertical-align: top;\n",
       "    }\n",
       "\n",
       "    .dataframe thead th {\n",
       "        text-align: right;\n",
       "    }\n",
       "</style>\n",
       "<table border=\"1\" class=\"dataframe\">\n",
       "  <thead>\n",
       "    <tr style=\"text-align: right;\">\n",
       "      <th></th>\n",
       "      <th>score</th>\n",
       "      <th>adduct</th>\n",
       "      <th>cas_number</th>\n",
       "      <th>charge</th>\n",
       "      <th>compound_name</th>\n",
       "      <th>compound_source</th>\n",
       "      <th>create_time</th>\n",
       "      <th>data_collector</th>\n",
       "      <th>exactmass</th>\n",
       "      <th>formula_inchi</th>\n",
       "      <th>...</th>\n",
       "      <th>source_file</th>\n",
       "      <th>spectrum_id</th>\n",
       "      <th>spectrum_status</th>\n",
       "      <th>spectrumid</th>\n",
       "      <th>splash</th>\n",
       "      <th>submit_user</th>\n",
       "      <th>task</th>\n",
       "      <th>task_id</th>\n",
       "      <th>url</th>\n",
       "      <th>user_id</th>\n",
       "    </tr>\n",
       "    <tr>\n",
       "      <th>matches of spectrum-0</th>\n",
       "      <th></th>\n",
       "      <th></th>\n",
       "      <th></th>\n",
       "      <th></th>\n",
       "      <th></th>\n",
       "      <th></th>\n",
       "      <th></th>\n",
       "      <th></th>\n",
       "      <th></th>\n",
       "      <th></th>\n",
       "      <th></th>\n",
       "      <th></th>\n",
       "      <th></th>\n",
       "      <th></th>\n",
       "      <th></th>\n",
       "      <th></th>\n",
       "      <th></th>\n",
       "      <th></th>\n",
       "      <th></th>\n",
       "      <th></th>\n",
       "      <th></th>\n",
       "    </tr>\n",
       "  </thead>\n",
       "  <tbody>\n",
       "    <tr>\n",
       "      <th>CCMSLIB00000425025</th>\n",
       "      <td>0.551108</td>\n",
       "      <td>M+H</td>\n",
       "      <td>148473-00-1</td>\n",
       "      <td>1</td>\n",
       "      <td>Hymenamide B</td>\n",
       "      <td>Isolated</td>\n",
       "      <td>2015-02-20 10:43:58.0</td>\n",
       "      <td>Williams</td>\n",
       "      <td>830.396</td>\n",
       "      <td></td>\n",
       "      <td>...</td>\n",
       "      <td>f.philipwi/GNPS_Marine_Invertebrate_Secondary_...</td>\n",
       "      <td>CCMSLIB00000425025</td>\n",
       "      <td>1</td>\n",
       "      <td>CCMSLIB00000425025</td>\n",
       "      <td>splash10-0006-0193000000-0193000000</td>\n",
       "      <td>philipwi</td>\n",
       "      <td>2a233db354204f2d9690147ffcd71a84</td>\n",
       "      <td>2a233db354204f2d9690147ffcd71a84</td>\n",
       "      <td>https://gnps.ucsd.edu/ProteoSAFe/gnpslibrarysp...</td>\n",
       "      <td>null</td>\n",
       "    </tr>\n",
       "    <tr>\n",
       "      <th>CCMSLIB00005725325</th>\n",
       "      <td>0.546808</td>\n",
       "      <td>M+Na</td>\n",
       "      <td>N/A</td>\n",
       "      <td>1</td>\n",
       "      <td>19-(1-hydroxyethyl)-3,13,17-triazapentacyclo[1...</td>\n",
       "      <td>Isolated</td>\n",
       "      <td>2020-11-03 21:54:04.0</td>\n",
       "      <td>Luis Quiros-Guerrero</td>\n",
       "      <td>331.132</td>\n",
       "      <td>C20H17N3O2</td>\n",
       "      <td>...</td>\n",
       "      <td>MSV000086303/peak/PF017811_pos/200302_LQ_46671...</td>\n",
       "      <td>CCMSLIB00005725325</td>\n",
       "      <td>1</td>\n",
       "      <td>CCMSLIB00005725325</td>\n",
       "      <td>null-null-null-null</td>\n",
       "      <td>mpanitchpakdi</td>\n",
       "      <td>5c7943c413a14015969545069c9b9c83</td>\n",
       "      <td>5c7943c413a14015969545069c9b9c83</td>\n",
       "      <td>https://gnps.ucsd.edu/ProteoSAFe/gnpslibrarysp...</td>\n",
       "      <td>null</td>\n",
       "    </tr>\n",
       "    <tr>\n",
       "      <th>CCMSLIB00005725129</th>\n",
       "      <td>0.545683</td>\n",
       "      <td>M+Na</td>\n",
       "      <td>N/A</td>\n",
       "      <td>1</td>\n",
       "      <td>4,7,7-trimethylbicyclo[2.2.1]heptan-2-yl (2E)-...</td>\n",
       "      <td>Isolated</td>\n",
       "      <td>2020-11-03 21:53:27.0</td>\n",
       "      <td>Luis Quiros-Guerrero</td>\n",
       "      <td>330.183</td>\n",
       "      <td>C20H26O4</td>\n",
       "      <td>...</td>\n",
       "      <td>MSV000086302/peak/PF017796_pos/200728_LQ_PF001...</td>\n",
       "      <td>CCMSLIB00005725129</td>\n",
       "      <td>1</td>\n",
       "      <td>CCMSLIB00005725129</td>\n",
       "      <td>null-null-null-null</td>\n",
       "      <td>mpanitchpakdi</td>\n",
       "      <td>47c70d8ebaf44da2b750e27d914a5ac2</td>\n",
       "      <td>47c70d8ebaf44da2b750e27d914a5ac2</td>\n",
       "      <td>https://gnps.ucsd.edu/ProteoSAFe/gnpslibrarysp...</td>\n",
       "      <td>null</td>\n",
       "    </tr>\n",
       "    <tr>\n",
       "      <th>CCMSLIB00005436063</th>\n",
       "      <td>0.491435</td>\n",
       "      <td>M+H</td>\n",
       "      <td></td>\n",
       "      <td>1</td>\n",
       "      <td>Arcabucoine</td>\n",
       "      <td>Lysate</td>\n",
       "      <td>2019-06-26 16:39:54.0</td>\n",
       "      <td>ANGOLINI</td>\n",
       "      <td>353.126</td>\n",
       "      <td></td>\n",
       "      <td>...</td>\n",
       "      <td>f.amazonia/Library/C14j.mzXML;</td>\n",
       "      <td>CCMSLIB00005436063</td>\n",
       "      <td>1</td>\n",
       "      <td>CCMSLIB00005436063</td>\n",
       "      <td>null-null-null-null</td>\n",
       "      <td>amazonia</td>\n",
       "      <td>d9e36297f00d415b96d52a6693c72011</td>\n",
       "      <td>d9e36297f00d415b96d52a6693c72011</td>\n",
       "      <td>https://gnps.ucsd.edu/ProteoSAFe/gnpslibrarysp...</td>\n",
       "      <td>null</td>\n",
       "    </tr>\n",
       "    <tr>\n",
       "      <th>CCMSLIB00000081750</th>\n",
       "      <td>0.475527</td>\n",
       "      <td>M+H</td>\n",
       "      <td>56258-32-3</td>\n",
       "      <td>1</td>\n",
       "      <td>Altertoxin I</td>\n",
       "      <td>Isolated</td>\n",
       "      <td>2014-05-27 12:26:35.0</td>\n",
       "      <td>Monica Pupo</td>\n",
       "      <td>352.095</td>\n",
       "      <td>C20H16O6</td>\n",
       "      <td>...</td>\n",
       "      <td>gnps_AltertoxinI_pos_MplusH.mgf</td>\n",
       "      <td>CCMSLIB00000081750</td>\n",
       "      <td>1</td>\n",
       "      <td>CCMSLIB00000081750</td>\n",
       "      <td>splash10-014i-0009000000-0009000000</td>\n",
       "      <td>rsilva</td>\n",
       "      <td>52bd5f0db6314c93924d5ce5c86348eb</td>\n",
       "      <td>52bd5f0db6314c93924d5ce5c86348eb</td>\n",
       "      <td>https://gnps.ucsd.edu/ProteoSAFe/gnpslibrarysp...</td>\n",
       "      <td>null</td>\n",
       "    </tr>\n",
       "    <tr>\n",
       "      <th>CCMSLIB00000531520</th>\n",
       "      <td>0.365203</td>\n",
       "      <td>M+H</td>\n",
       "      <td></td>\n",
       "      <td>1</td>\n",
       "      <td>putative analog of trichodinA</td>\n",
       "      <td>Lysate</td>\n",
       "      <td>2015-10-23 15:29:15.0</td>\n",
       "      <td>negarg</td>\n",
       "      <td>353.199</td>\n",
       "      <td></td>\n",
       "      <td>...</td>\n",
       "      <td>f.zengyi88516/140412_Maxis_Impact_lichen_micro...</td>\n",
       "      <td>CCMSLIB00000531520</td>\n",
       "      <td>1</td>\n",
       "      <td>CCMSLIB00000531520</td>\n",
       "      <td>splash10-0udi-1269000000-1269000000</td>\n",
       "      <td>negarg</td>\n",
       "      <td>93b84c455303400aaa7972f5200cd311</td>\n",
       "      <td>b4cae132f42347eab51c94b3cbda09e8</td>\n",
       "      <td>https://gnps.ucsd.edu/ProteoSAFe/gnpslibrarysp...</td>\n",
       "      <td>null</td>\n",
       "    </tr>\n",
       "    <tr>\n",
       "      <th>CCMSLIB00005725344</th>\n",
       "      <td>0.338543</td>\n",
       "      <td>M+H</td>\n",
       "      <td>N/A</td>\n",
       "      <td>1</td>\n",
       "      <td>methyl (1R,14S,15E)-15-ethylidene-17-methyl-12...</td>\n",
       "      <td>Isolated</td>\n",
       "      <td>2020-11-03 21:54:04.0</td>\n",
       "      <td>Luis Quiros-Guerrero</td>\n",
       "      <td>352.179</td>\n",
       "      <td>C21H24N2O3</td>\n",
       "      <td>...</td>\n",
       "      <td>MSV000086303/peak/PF017811_pos/200302_LQ_46674...</td>\n",
       "      <td>CCMSLIB00005725344</td>\n",
       "      <td>1</td>\n",
       "      <td>CCMSLIB00005725344</td>\n",
       "      <td>null-null-null-null</td>\n",
       "      <td>mpanitchpakdi</td>\n",
       "      <td>5c7943c413a14015969545069c9b9c83</td>\n",
       "      <td>5c7943c413a14015969545069c9b9c83</td>\n",
       "      <td>https://gnps.ucsd.edu/ProteoSAFe/gnpslibrarysp...</td>\n",
       "      <td>null</td>\n",
       "    </tr>\n",
       "    <tr>\n",
       "      <th>CCMSLIB00000579243</th>\n",
       "      <td>0.332151</td>\n",
       "      <td>M+H</td>\n",
       "      <td></td>\n",
       "      <td>1</td>\n",
       "      <td>8-oxocanadine</td>\n",
       "      <td>Isolated</td>\n",
       "      <td>2016-03-09 11:39:11.0</td>\n",
       "      <td>Emily Britton</td>\n",
       "      <td>354.133</td>\n",
       "      <td></td>\n",
       "      <td>...</td>\n",
       "      <td>f.erbritto/GS-Standards-complete/8-oxocanadine...</td>\n",
       "      <td>CCMSLIB00000579243</td>\n",
       "      <td>1</td>\n",
       "      <td>CCMSLIB00000579243</td>\n",
       "      <td>splash10-004i-0902000000-0902000000</td>\n",
       "      <td>erbritto</td>\n",
       "      <td>216dedc2e5be4a8b979b6936b7c881d9</td>\n",
       "      <td>216dedc2e5be4a8b979b6936b7c881d9</td>\n",
       "      <td>https://gnps.ucsd.edu/ProteoSAFe/gnpslibrarysp...</td>\n",
       "      <td>null</td>\n",
       "    </tr>\n",
       "    <tr>\n",
       "      <th>CCMSLIB00000068234</th>\n",
       "      <td>0.317541</td>\n",
       "      <td>M+H-H2O</td>\n",
       "      <td>N/A</td>\n",
       "      <td>1</td>\n",
       "      <td>\"R-4-benzyl-3-((R)-3-hydroxy-2,2-dimethyloct-7...</td>\n",
       "      <td>isolated</td>\n",
       "      <td>2014-03-14 15:04:29.0</td>\n",
       "      <td>Garg/Luzzato</td>\n",
       "      <td>371.21</td>\n",
       "      <td></td>\n",
       "      <td>...</td>\n",
       "      <td>2B1_R-4-benzyl-3-((R)-3-hydroxy-2_2-dimethyloc...</td>\n",
       "      <td>CCMSLIB00000068234</td>\n",
       "      <td>1</td>\n",
       "      <td>CCMSLIB00000068234</td>\n",
       "      <td>splash10-0udj-0539000000-0539000000</td>\n",
       "      <td>mwang87</td>\n",
       "      <td>0032f231730f48e281f48feabde94c8f</td>\n",
       "      <td>0032f231730f48e281f48feabde94c8f</td>\n",
       "      <td>https://gnps.ucsd.edu/ProteoSAFe/gnpslibrarysp...</td>\n",
       "      <td>null</td>\n",
       "    </tr>\n",
       "    <tr>\n",
       "      <th>CCMSLIB00005879250</th>\n",
       "      <td>0.31347</td>\n",
       "      <td>M+H</td>\n",
       "      <td>1120-34-9</td>\n",
       "      <td>1</td>\n",
       "      <td>methyl (Z)-docos-13-enoate</td>\n",
       "      <td>Commercial</td>\n",
       "      <td>2021-03-10 18:09:09.0</td>\n",
       "      <td>Miguel Cuevas</td>\n",
       "      <td>352.334</td>\n",
       "      <td>C23H44O2</td>\n",
       "      <td>...</td>\n",
       "      <td>f.amoreno/MGF_Commercial_STDs/FAME_LIPIDS_STD_...</td>\n",
       "      <td>CCMSLIB00005879250</td>\n",
       "      <td>1</td>\n",
       "      <td>CCMSLIB00005879250</td>\n",
       "      <td>null-null-null-null</td>\n",
       "      <td>amoreno</td>\n",
       "      <td>6d90d9eb32e841aab3c9c9f8b087c770</td>\n",
       "      <td>6d90d9eb32e841aab3c9c9f8b087c770</td>\n",
       "      <td>https://gnps.ucsd.edu/ProteoSAFe/gnpslibrarysp...</td>\n",
       "      <td>null</td>\n",
       "    </tr>\n",
       "  </tbody>\n",
       "</table>\n",
       "<p>10 rows × 38 columns</p>\n",
       "</div>"
      ],
      "text/plain": [
       "                          score   adduct   cas_number charge  \\\n",
       "matches of spectrum-0                                          \n",
       "CCMSLIB00000425025     0.551108      M+H  148473-00-1      1   \n",
       "CCMSLIB00005725325     0.546808     M+Na          N/A      1   \n",
       "CCMSLIB00005725129     0.545683     M+Na          N/A      1   \n",
       "CCMSLIB00005436063     0.491435      M+H                   1   \n",
       "CCMSLIB00000081750     0.475527      M+H   56258-32-3      1   \n",
       "CCMSLIB00000531520     0.365203      M+H                   1   \n",
       "CCMSLIB00005725344     0.338543      M+H          N/A      1   \n",
       "CCMSLIB00000579243     0.332151      M+H                   1   \n",
       "CCMSLIB00000068234     0.317541  M+H-H2O          N/A      1   \n",
       "CCMSLIB00005879250      0.31347      M+H    1120-34-9      1   \n",
       "\n",
       "                                                           compound_name  \\\n",
       "matches of spectrum-0                                                      \n",
       "CCMSLIB00000425025                                          Hymenamide B   \n",
       "CCMSLIB00005725325     19-(1-hydroxyethyl)-3,13,17-triazapentacyclo[1...   \n",
       "CCMSLIB00005725129     4,7,7-trimethylbicyclo[2.2.1]heptan-2-yl (2E)-...   \n",
       "CCMSLIB00005436063                                           Arcabucoine   \n",
       "CCMSLIB00000081750                                          Altertoxin I   \n",
       "CCMSLIB00000531520                         putative analog of trichodinA   \n",
       "CCMSLIB00005725344     methyl (1R,14S,15E)-15-ethylidene-17-methyl-12...   \n",
       "CCMSLIB00000579243                                         8-oxocanadine   \n",
       "CCMSLIB00000068234     \"R-4-benzyl-3-((R)-3-hydroxy-2,2-dimethyloct-7...   \n",
       "CCMSLIB00005879250                            methyl (Z)-docos-13-enoate   \n",
       "\n",
       "                      compound_source            create_time  \\\n",
       "matches of spectrum-0                                          \n",
       "CCMSLIB00000425025           Isolated  2015-02-20 10:43:58.0   \n",
       "CCMSLIB00005725325           Isolated  2020-11-03 21:54:04.0   \n",
       "CCMSLIB00005725129           Isolated  2020-11-03 21:53:27.0   \n",
       "CCMSLIB00005436063             Lysate  2019-06-26 16:39:54.0   \n",
       "CCMSLIB00000081750           Isolated  2014-05-27 12:26:35.0   \n",
       "CCMSLIB00000531520             Lysate  2015-10-23 15:29:15.0   \n",
       "CCMSLIB00005725344           Isolated  2020-11-03 21:54:04.0   \n",
       "CCMSLIB00000579243           Isolated  2016-03-09 11:39:11.0   \n",
       "CCMSLIB00000068234           isolated  2014-03-14 15:04:29.0   \n",
       "CCMSLIB00005879250         Commercial  2021-03-10 18:09:09.0   \n",
       "\n",
       "                             data_collector exactmass formula_inchi  ...  \\\n",
       "matches of spectrum-0                                                ...   \n",
       "CCMSLIB00000425025                 Williams   830.396                ...   \n",
       "CCMSLIB00005725325     Luis Quiros-Guerrero   331.132    C20H17N3O2  ...   \n",
       "CCMSLIB00005725129     Luis Quiros-Guerrero   330.183      C20H26O4  ...   \n",
       "CCMSLIB00005436063                 ANGOLINI   353.126                ...   \n",
       "CCMSLIB00000081750              Monica Pupo   352.095      C20H16O6  ...   \n",
       "CCMSLIB00000531520                   negarg   353.199                ...   \n",
       "CCMSLIB00005725344     Luis Quiros-Guerrero   352.179    C21H24N2O3  ...   \n",
       "CCMSLIB00000579243            Emily Britton   354.133                ...   \n",
       "CCMSLIB00000068234             Garg/Luzzato    371.21                ...   \n",
       "CCMSLIB00005879250            Miguel Cuevas   352.334      C23H44O2  ...   \n",
       "\n",
       "                                                             source_file  \\\n",
       "matches of spectrum-0                                                      \n",
       "CCMSLIB00000425025     f.philipwi/GNPS_Marine_Invertebrate_Secondary_...   \n",
       "CCMSLIB00005725325     MSV000086303/peak/PF017811_pos/200302_LQ_46671...   \n",
       "CCMSLIB00005725129     MSV000086302/peak/PF017796_pos/200728_LQ_PF001...   \n",
       "CCMSLIB00005436063                        f.amazonia/Library/C14j.mzXML;   \n",
       "CCMSLIB00000081750                       gnps_AltertoxinI_pos_MplusH.mgf   \n",
       "CCMSLIB00000531520     f.zengyi88516/140412_Maxis_Impact_lichen_micro...   \n",
       "CCMSLIB00005725344     MSV000086303/peak/PF017811_pos/200302_LQ_46674...   \n",
       "CCMSLIB00000579243     f.erbritto/GS-Standards-complete/8-oxocanadine...   \n",
       "CCMSLIB00000068234     2B1_R-4-benzyl-3-((R)-3-hydroxy-2_2-dimethyloc...   \n",
       "CCMSLIB00005879250     f.amoreno/MGF_Commercial_STDs/FAME_LIPIDS_STD_...   \n",
       "\n",
       "                              spectrum_id spectrum_status          spectrumid  \\\n",
       "matches of spectrum-0                                                           \n",
       "CCMSLIB00000425025     CCMSLIB00000425025               1  CCMSLIB00000425025   \n",
       "CCMSLIB00005725325     CCMSLIB00005725325               1  CCMSLIB00005725325   \n",
       "CCMSLIB00005725129     CCMSLIB00005725129               1  CCMSLIB00005725129   \n",
       "CCMSLIB00005436063     CCMSLIB00005436063               1  CCMSLIB00005436063   \n",
       "CCMSLIB00000081750     CCMSLIB00000081750               1  CCMSLIB00000081750   \n",
       "CCMSLIB00000531520     CCMSLIB00000531520               1  CCMSLIB00000531520   \n",
       "CCMSLIB00005725344     CCMSLIB00005725344               1  CCMSLIB00005725344   \n",
       "CCMSLIB00000579243     CCMSLIB00000579243               1  CCMSLIB00000579243   \n",
       "CCMSLIB00000068234     CCMSLIB00000068234               1  CCMSLIB00000068234   \n",
       "CCMSLIB00005879250     CCMSLIB00005879250               1  CCMSLIB00005879250   \n",
       "\n",
       "                                                    splash    submit_user  \\\n",
       "matches of spectrum-0                                                       \n",
       "CCMSLIB00000425025     splash10-0006-0193000000-0193000000       philipwi   \n",
       "CCMSLIB00005725325                     null-null-null-null  mpanitchpakdi   \n",
       "CCMSLIB00005725129                     null-null-null-null  mpanitchpakdi   \n",
       "CCMSLIB00005436063                     null-null-null-null       amazonia   \n",
       "CCMSLIB00000081750     splash10-014i-0009000000-0009000000         rsilva   \n",
       "CCMSLIB00000531520     splash10-0udi-1269000000-1269000000         negarg   \n",
       "CCMSLIB00005725344                     null-null-null-null  mpanitchpakdi   \n",
       "CCMSLIB00000579243     splash10-004i-0902000000-0902000000       erbritto   \n",
       "CCMSLIB00000068234     splash10-0udj-0539000000-0539000000        mwang87   \n",
       "CCMSLIB00005879250                     null-null-null-null        amoreno   \n",
       "\n",
       "                                                   task  \\\n",
       "matches of spectrum-0                                     \n",
       "CCMSLIB00000425025     2a233db354204f2d9690147ffcd71a84   \n",
       "CCMSLIB00005725325     5c7943c413a14015969545069c9b9c83   \n",
       "CCMSLIB00005725129     47c70d8ebaf44da2b750e27d914a5ac2   \n",
       "CCMSLIB00005436063     d9e36297f00d415b96d52a6693c72011   \n",
       "CCMSLIB00000081750     52bd5f0db6314c93924d5ce5c86348eb   \n",
       "CCMSLIB00000531520     93b84c455303400aaa7972f5200cd311   \n",
       "CCMSLIB00005725344     5c7943c413a14015969545069c9b9c83   \n",
       "CCMSLIB00000579243     216dedc2e5be4a8b979b6936b7c881d9   \n",
       "CCMSLIB00000068234     0032f231730f48e281f48feabde94c8f   \n",
       "CCMSLIB00005879250     6d90d9eb32e841aab3c9c9f8b087c770   \n",
       "\n",
       "                                                task_id  \\\n",
       "matches of spectrum-0                                     \n",
       "CCMSLIB00000425025     2a233db354204f2d9690147ffcd71a84   \n",
       "CCMSLIB00005725325     5c7943c413a14015969545069c9b9c83   \n",
       "CCMSLIB00005725129     47c70d8ebaf44da2b750e27d914a5ac2   \n",
       "CCMSLIB00005436063     d9e36297f00d415b96d52a6693c72011   \n",
       "CCMSLIB00000081750     52bd5f0db6314c93924d5ce5c86348eb   \n",
       "CCMSLIB00000531520     b4cae132f42347eab51c94b3cbda09e8   \n",
       "CCMSLIB00005725344     5c7943c413a14015969545069c9b9c83   \n",
       "CCMSLIB00000579243     216dedc2e5be4a8b979b6936b7c881d9   \n",
       "CCMSLIB00000068234     0032f231730f48e281f48feabde94c8f   \n",
       "CCMSLIB00005879250     6d90d9eb32e841aab3c9c9f8b087c770   \n",
       "\n",
       "                                                                     url  \\\n",
       "matches of spectrum-0                                                      \n",
       "CCMSLIB00000425025     https://gnps.ucsd.edu/ProteoSAFe/gnpslibrarysp...   \n",
       "CCMSLIB00005725325     https://gnps.ucsd.edu/ProteoSAFe/gnpslibrarysp...   \n",
       "CCMSLIB00005725129     https://gnps.ucsd.edu/ProteoSAFe/gnpslibrarysp...   \n",
       "CCMSLIB00005436063     https://gnps.ucsd.edu/ProteoSAFe/gnpslibrarysp...   \n",
       "CCMSLIB00000081750     https://gnps.ucsd.edu/ProteoSAFe/gnpslibrarysp...   \n",
       "CCMSLIB00000531520     https://gnps.ucsd.edu/ProteoSAFe/gnpslibrarysp...   \n",
       "CCMSLIB00005725344     https://gnps.ucsd.edu/ProteoSAFe/gnpslibrarysp...   \n",
       "CCMSLIB00000579243     https://gnps.ucsd.edu/ProteoSAFe/gnpslibrarysp...   \n",
       "CCMSLIB00000068234     https://gnps.ucsd.edu/ProteoSAFe/gnpslibrarysp...   \n",
       "CCMSLIB00005879250     https://gnps.ucsd.edu/ProteoSAFe/gnpslibrarysp...   \n",
       "\n",
       "                      user_id  \n",
       "matches of spectrum-0          \n",
       "CCMSLIB00000425025       null  \n",
       "CCMSLIB00005725325       null  \n",
       "CCMSLIB00005725129       null  \n",
       "CCMSLIB00005436063       null  \n",
       "CCMSLIB00000081750       null  \n",
       "CCMSLIB00000531520       null  \n",
       "CCMSLIB00005725344       null  \n",
       "CCMSLIB00000579243       null  \n",
       "CCMSLIB00000068234       null  \n",
       "CCMSLIB00005879250       null  \n",
       "\n",
       "[10 rows x 38 columns]"
      ]
     },
     "execution_count": 6,
     "metadata": {},
     "output_type": "execute_result"
    }
   ],
   "source": [
    "spectra_matches[0]"
   ]
  },
  {
   "cell_type": "markdown",
   "metadata": {},
   "source": [
    "# 3. Save results\n",
    "\n",
    "Execute the following cell to save the results in an Excel file. For readability, each dataframe is saved in its own csv file under the matches directory."
   ]
  },
  {
   "cell_type": "code",
   "execution_count": 7,
   "metadata": {},
   "outputs": [],
   "source": [
    "import os\n",
    "os.makedirs(\"matches\", exist_ok=True)\n",
    "for i, spectrum_matches in enumerate(spectra_matches):\n",
    "    spectrum_matches.to_csv(f\"matches/spectrum_{i}.csv\")"
   ]
  },
  {
   "cell_type": "markdown",
   "metadata": {},
   "source": [
    "# 4. Create Plots\n",
    "\n",
    "The following cell will show you an example of how to visualize your matches."
   ]
  },
  {
   "cell_type": "markdown",
   "metadata": {},
   "source": [
    "### Creating a Plot of the molecular structure"
   ]
  },
  {
   "cell_type": "code",
   "execution_count": 8,
   "metadata": {},
   "outputs": [
    {
     "data": {
      "image/png": "[encoded data removed]",
      "text/plain": [
       "<PIL.PngImagePlugin.PngImageFile image mode=RGB size=300x300 at 0x7FD5E17B2690>"
      ]
     },
     "metadata": {},
     "output_type": "display_data"
    },
    {
     "name": "stdout",
     "output_type": "stream",
     "text": [
      "5,7-dihydroxy-4-(1-hydroxypropyl)-6-(3-methylbut-2-en-1-yl)-8-(3-methylbutanoyl)-2H-chromen-2-one\n"
     ]
    }
   ],
   "source": [
    "from omigami.plotting import MoleculePlotter\n",
    "plotter = MoleculePlotter()\n",
    "\n",
    "plots, legends = plotter.plot_molecule_structure(\n",
    "    spectra_matches[1],\n",
    "    draw_indices=True,\n",
    "    img_size=(300, 300),\n",
    "    substructure_highlight=\"C(=O)\"\n",
    ")\n",
    "\n",
    "first_match = list(plots.values())[0]\n",
    "display(first_match)\n",
    "print(legends[0])"
   ]
  },
  {
   "cell_type": "markdown",
   "metadata": {},
   "source": [
    "### Creating a Spectra Comparison Mirror Plot"
   ]
  },
  {
   "cell_type": "code",
   "execution_count": 9,
   "metadata": {},
   "outputs": [
    {
     "data": {
      "image/png": "[encoded data removed]",
      "text/plain": [
       "<Figure size 1440x720 with 2 Axes>"
      ]
     },
     "metadata": {
      "needs_background": "light"
     },
     "output_type": "display_data"
    }
   ],
   "source": [
    "from omigami.plotting import SpectraComparisonPlotter\n",
    "from omigami.utilities import SpectrumDataFrameHelper\n",
    "from matchms.importing import load_from_mgf\n",
    "\n",
    "plotter = SpectraComparisonPlotter()\n",
    "\n",
    "# lets load in memory our input spectra so we can compare input and output (matches)\n",
    "input_spectra = list(load_from_mgf(path_to_mgf))\n",
    "\n",
    "input_df = SpectrumDataFrameHelper.from_spectrum(input_spectra[0])\n",
    "\n",
    "spectrum_match_id = spectra_matches[0].index[0]\n",
    "output_df = SpectrumDataFrameHelper.from_gnps_id(spectrum_match_id)\n",
    "\n",
    "plot = plotter.mirror_plot(\n",
    "    spectrum_1=input_df,\n",
    "    spectrum_2=output_df,\n",
    "    labels=[\"Input Spectrum\", \"First Spectrum Match\"],\n",
    "    display_limits=(0,500)\n",
    ")"
   ]
  },
  {
   "cell_type": "markdown",
   "metadata": {},
   "source": [
    "### Creating a Plot using the ClassyFire APIm"
   ]
  },
  {
   "cell_type": "code",
   "execution_count": 10,
   "metadata": {},
   "outputs": [
    {
     "data": {
      "text/plain": [
       "<BarContainer object of 5 artists>"
      ]
     },
     "execution_count": 10,
     "metadata": {},
     "output_type": "execute_result"
    },
    {
     "data": {
      "image/png": "[encoded data removed]",
      "text/plain": [
       "<Figure size 432x288 with 1 Axes>"
      ]
     },
     "metadata": {
      "needs_background": "light"
     },
     "output_type": "display_data"
    }
   ],
   "source": [
    "plotter = MoleculePlotter()\n",
    "plotter.plot_classyfire_result(spectra_matches[1], color=\"green\")"
   ]
  },
  {
   "cell_type": "markdown",
   "metadata": {},
   "source": [
    "### Creating a Plot using the NP-Classifier API"
   ]
  },
  {
   "cell_type": "code",
   "execution_count": 11,
   "metadata": {},
   "outputs": [
    {
     "data": {
      "text/plain": [
       "<BarContainer object of 5 artists>"
      ]
     },
     "execution_count": 11,
     "metadata": {},
     "output_type": "execute_result"
    },
    {
     "data": {
      "image/png": "[encoded data removed]",
      "text/plain": [
       "<Figure size 432x288 with 1 Axes>"
      ]
     },
     "metadata": {
      "needs_background": "light"
     },
     "output_type": "display_data"
    }
   ],
   "source": [
    "plotter = MoleculePlotter()\n",
    "plotter.plot_NPclassifier_result(spectra_matches[1], color=\"orange\")"
   ]
  },
  {
   "cell_type": "markdown",
   "metadata": {
    "id": "fxZC5erYIjIq"
   },
   "source": [
    "____"
   ]
  }
 ],
 "metadata": {
  "colab": {
   "collapsed_sections": [],
   "name": "Spec2Vec predictions API documentation.ipynb",
   "provenance": []
  },
  "kernelspec": {
   "display_name": "Python 3 (ipykernel)",
   "language": "python",
   "name": "python3"
  },
  "language_info": {
   "codemirror_mode": {
    "name": "ipython",
    "version": 3
   },
   "file_extension": ".py",
   "mimetype": "text/x-python",
   "name": "python",
   "nbconvert_exporter": "python",
   "pygments_lexer": "ipython3",
   "version": "3.7.11"
  }
 },
 "nbformat": 4,
 "nbformat_minor": 4
}
