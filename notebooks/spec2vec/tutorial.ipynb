{
 "cells": [
  {
   "cell_type": "markdown",
   "metadata": {},
   "source": [
    "# Spec2Vec API – Quickstart\n",
    "\n",
    "*In order to use omigami, you need an access token provided by DataRevenue.*\n",
    "## Introduction\n",
    "\n",
    "This is a short guide on you can add GNPS library matches to your mass spectra - using Omigami's Spec2Vec API.\n",
    "\n",
    "The API uses a Spec2Vec model that was trained on the entire GNPS spectral library. It embeds each of your spectra into a vector space and calculates the cosine similarity to all GNPS library spectra in this vector space. It then returns you the top library matches for each of your spectra. To learn more about Spec2Vec read our gentle introduction: [Spec2Vec: The Next Step in Mass Spectral Similarity Metrics](https://www.datarevenue.com/en-blog/spec2vec-mass-spectral-similarity-metric)\n",
    "\n",
    "This notebook shows you how \n",
    "1. Specify any MGF file\n",
    "2. Run a library search through the Spec2Vec API\n",
    "3. Save the results as XLSX."
   ]
  },
  {
   "cell_type": "markdown",
   "metadata": {},
   "source": [
    "# 1. (Down)load a MS/MS dataset (MGF format)\n",
    "\n",
    "We'll use a small MS/MS dataset in the MGF format from [here](https://gnps-external.ucsd.edu/gnpslibrary/GNPS-COLLECTIONS-MISC.mgf).\n",
    "You can also select any other from the [GNPS spectral library](https://gnps-external.ucsd.edu/gnpslibrary), or - of course - use your own.\n",
    "\n",
    "*Note that you will need the Precursor_MZ field `PEPMASS` and the abundance pairs in your MGF file.*"
   ]
  },
  {
   "cell_type": "code",
   "execution_count": 1,
   "metadata": {
    "id": "cHX57WiaVX_o"
   },
   "outputs": [],
   "source": [
    "# Load your own MS/MS dataset (and skip the next cell)\n",
    "path_to_mgf = 'GNPS-COLLECTIONS-MISC.mgf'"
   ]
  },
  {
   "cell_type": "code",
   "execution_count": null,
   "metadata": {
    "colab": {
     "base_uri": "https://localhost:8080/"
    },
    "id": "hfGUAXVbqUEx",
    "outputId": "244423a2-79ff-42c5-b13c-7c98afeca797"
   },
   "outputs": [],
   "source": [
    "# OR download a small MS/MS dataset from GNPS, in the same directory as this notebook\n",
    "import urllib.request\n",
    "\n",
    "url = 'https://gnps-external.ucsd.edu/gnpslibrary/GNPS-COLLECTIONS-MISC.mgf'\n",
    "\n",
    "path_to_mgf = f'GNPS-COLLECTIONS-MISC.mgf' # use your prefered saving path here\n",
    "\n",
    "urllib.request.urlretrieve(url, path_to_mgf)"
   ]
  },
  {
   "cell_type": "markdown",
   "metadata": {},
   "source": [
    "# 2. Query for the best matches with Spec2Vec\n",
    "\n",
    "`Spec2Vec` is a python wrapper which :\n",
    "- Builds a json payload from the MGF file\n",
    "- Calls the Spec2Vec API\n",
    "- Formats the prediction results into readable dataframes\n",
    "\n",
    "____\n",
    "- `n_best` sets the number of matches you'd like per spectrum (it is set to 10 by default).\n",
    "\n",
    "In the results dataframes, the input spectra can be identified by their number in the dataframes index, which refers to their order in the MGF file.  \n",
    "*i.e.* `matches of spectrum 1` gives the spectrum_id and Spec2Vec scores of the library spectra matches, for the first spectrum in the MGF file.\n",
    "\n",
    "For each spectrum in the MGF file, the library spectra matches are sorted according to their Spec2Vec similarity score (best is first).   \n",
    "The following information about the predicted spectra are returned :\n",
    "- `score`, the Spec2Vec similarity score between the input spectrum and the library spectrum\n",
    "- `matches of spectrum #`, the spectrum_ID of the matched library spectra for the spectrum number # in the MGF file"
   ]
  },
  {
   "cell_type": "code",
   "execution_count": 2,
   "metadata": {
    "id": "fLx7vmXRIjIg"
   },
   "outputs": [],
   "source": [
    "from omigami import Spec2Vec"
   ]
  },
  {
   "cell_type": "code",
   "execution_count": 3,
   "metadata": {
    "id": "BHMpFDN2Pq8Z"
   },
   "outputs": [],
   "source": [
    "# Initialize the client with your user token\n",
    "spec2vec = Spec2Vec(token=\"your_token\")"
   ]
  },
  {
   "cell_type": "code",
   "execution_count": 4,
   "metadata": {},
   "outputs": [],
   "source": [
    "# Run Spec2Vec library search\n",
    "spectra_matches = spec2vec.match_spectra_from_path(path_to_mgf, 10, [\"smiles\", \"compound_name\"])"
   ]
  },
  {
   "cell_type": "markdown",
   "metadata": {},
   "source": [
    "## 2.1 View results\n",
    "A list of dataframes is returned. To look at a specific dataframe you can call :\n",
    "```python\n",
    "spec2vec_matches[i]  # 'i' refers to the (i+1)th spectrum in the MGF file input\n",
    "```"
   ]
  },
  {
   "cell_type": "code",
   "execution_count": 6,
   "metadata": {},
   "outputs": [
    {
     "data": {
      "text/html": [
       "<div>\n",
       "<style scoped>\n",
       "    .dataframe tbody tr th:only-of-type {\n",
       "        vertical-align: middle;\n",
       "    }\n",
       "\n",
       "    .dataframe tbody tr th {\n",
       "        vertical-align: top;\n",
       "    }\n",
       "\n",
       "    .dataframe thead th {\n",
       "        text-align: right;\n",
       "    }\n",
       "</style>\n",
       "<table border=\"1\" class=\"dataframe\">\n",
       "  <thead>\n",
       "    <tr style=\"text-align: right;\">\n",
       "      <th></th>\n",
       "      <th>compound_name</th>\n",
       "      <th>score</th>\n",
       "      <th>smiles</th>\n",
       "    </tr>\n",
       "    <tr>\n",
       "      <th>matches of spectrum-0</th>\n",
       "      <th></th>\n",
       "      <th></th>\n",
       "      <th></th>\n",
       "    </tr>\n",
       "  </thead>\n",
       "  <tbody>\n",
       "    <tr>\n",
       "      <th>CCMSLIB00005914380</th>\n",
       "      <td>Malvidin</td>\n",
       "      <td>0.221077</td>\n",
       "      <td>OC=1C=C(O)C=2C=C(O)C(=[O+]C2C1)C=3C=C(OC)C(O)=...</td>\n",
       "    </tr>\n",
       "    <tr>\n",
       "      <th>CCMSLIB00005914391</th>\n",
       "      <td>Malvidin</td>\n",
       "      <td>0.18966</td>\n",
       "      <td>OC=1C=C(O)C=2C=C(O)C(=[O+]C2C1)C=3C=C(OC)C(O)=...</td>\n",
       "    </tr>\n",
       "    <tr>\n",
       "      <th>CCMSLIB00005914553</th>\n",
       "      <td>Malvidin</td>\n",
       "      <td>0.18966</td>\n",
       "      <td>OC=1C=C(O)C=2C=C(O)C(=[O+]C2C1)C=3C=C(OC)C(O)=...</td>\n",
       "    </tr>\n",
       "    <tr>\n",
       "      <th>CCMSLIB00005987253</th>\n",
       "      <td>Dephnoretin</td>\n",
       "      <td>0.158713</td>\n",
       "      <td>O=C1OC=2C=C(OC3=CC=4C=C(OC)C(O)=CC4OC3=O)C=CC2...</td>\n",
       "    </tr>\n",
       "    <tr>\n",
       "      <th>CCMSLIB00006015008</th>\n",
       "      <td>3-(3,4-dihydro-2H-benzo[b][1,4]dioxepin-7-yl)-...</td>\n",
       "      <td>0.155292</td>\n",
       "      <td>O=C1C2=CC=C(OCC)C=C2OC(=C1C=3C=CC=4OCCCOC4C3)C</td>\n",
       "    </tr>\n",
       "    <tr>\n",
       "      <th>CCMSLIB00006015264</th>\n",
       "      <td>3-(3,4-dihydro-2H-benzo[b][1,4]dioxepin-7-yl)-...</td>\n",
       "      <td>0.231717</td>\n",
       "      <td>O=C1C2=CC=C(OCC)C=C2OC(=C1C=3C=CC=4OCCCOC4C3)C</td>\n",
       "    </tr>\n",
       "    <tr>\n",
       "      <th>CCMSLIB00006015384</th>\n",
       "      <td>3-(3,4-dihydro-2H-benzo[b][1,4]dioxepin-7-yl)-...</td>\n",
       "      <td>0.183075</td>\n",
       "      <td>O=C1C2=CC=C(OCC)C=C2OC(=C1C=3C=CC=4OCCCOC4C3)C</td>\n",
       "    </tr>\n",
       "    <tr>\n",
       "      <th>CCMSLIB00006056025</th>\n",
       "      <td>meso-dihydroguaiaretic acid</td>\n",
       "      <td>0.153557</td>\n",
       "      <td>OC1=CC=C(C=C1OC)CC(C)C(C)CC2=CC=C(O)C(OC)=C2</td>\n",
       "    </tr>\n",
       "    <tr>\n",
       "      <th>CCMSLIB00006056045</th>\n",
       "      <td>meso-dihydroguaiaretic acid</td>\n",
       "      <td>0.191989</td>\n",
       "      <td>OC1=CC=C(C=C1OC)CC(C)C(C)CC2=CC=C(O)C(OC)=C2</td>\n",
       "    </tr>\n",
       "    <tr>\n",
       "      <th>CCMSLIB00006056696</th>\n",
       "      <td>meso-dihydroguaiaretic acid</td>\n",
       "      <td>0.15775</td>\n",
       "      <td>OC1=CC=C(C=C1OC)CC(C)C(C)CC2=CC=C(O)C(OC)=C2</td>\n",
       "    </tr>\n",
       "  </tbody>\n",
       "</table>\n",
       "</div>"
      ],
      "text/plain": [
       "                                                           compound_name  \\\n",
       "matches of spectrum-0                                                      \n",
       "CCMSLIB00005914380                                              Malvidin   \n",
       "CCMSLIB00005914391                                              Malvidin   \n",
       "CCMSLIB00005914553                                              Malvidin   \n",
       "CCMSLIB00005987253                                           Dephnoretin   \n",
       "CCMSLIB00006015008     3-(3,4-dihydro-2H-benzo[b][1,4]dioxepin-7-yl)-...   \n",
       "CCMSLIB00006015264     3-(3,4-dihydro-2H-benzo[b][1,4]dioxepin-7-yl)-...   \n",
       "CCMSLIB00006015384     3-(3,4-dihydro-2H-benzo[b][1,4]dioxepin-7-yl)-...   \n",
       "CCMSLIB00006056025                           meso-dihydroguaiaretic acid   \n",
       "CCMSLIB00006056045                           meso-dihydroguaiaretic acid   \n",
       "CCMSLIB00006056696                           meso-dihydroguaiaretic acid   \n",
       "\n",
       "                          score  \\\n",
       "matches of spectrum-0             \n",
       "CCMSLIB00005914380     0.221077   \n",
       "CCMSLIB00005914391      0.18966   \n",
       "CCMSLIB00005914553      0.18966   \n",
       "CCMSLIB00005987253     0.158713   \n",
       "CCMSLIB00006015008     0.155292   \n",
       "CCMSLIB00006015264     0.231717   \n",
       "CCMSLIB00006015384     0.183075   \n",
       "CCMSLIB00006056025     0.153557   \n",
       "CCMSLIB00006056045     0.191989   \n",
       "CCMSLIB00006056696      0.15775   \n",
       "\n",
       "                                                                  smiles  \n",
       "matches of spectrum-0                                                     \n",
       "CCMSLIB00005914380     OC=1C=C(O)C=2C=C(O)C(=[O+]C2C1)C=3C=C(OC)C(O)=...  \n",
       "CCMSLIB00005914391     OC=1C=C(O)C=2C=C(O)C(=[O+]C2C1)C=3C=C(OC)C(O)=...  \n",
       "CCMSLIB00005914553     OC=1C=C(O)C=2C=C(O)C(=[O+]C2C1)C=3C=C(OC)C(O)=...  \n",
       "CCMSLIB00005987253     O=C1OC=2C=C(OC3=CC=4C=C(OC)C(O)=CC4OC3=O)C=CC2...  \n",
       "CCMSLIB00006015008        O=C1C2=CC=C(OCC)C=C2OC(=C1C=3C=CC=4OCCCOC4C3)C  \n",
       "CCMSLIB00006015264        O=C1C2=CC=C(OCC)C=C2OC(=C1C=3C=CC=4OCCCOC4C3)C  \n",
       "CCMSLIB00006015384        O=C1C2=CC=C(OCC)C=C2OC(=C1C=3C=CC=4OCCCOC4C3)C  \n",
       "CCMSLIB00006056025          OC1=CC=C(C=C1OC)CC(C)C(C)CC2=CC=C(O)C(OC)=C2  \n",
       "CCMSLIB00006056045          OC1=CC=C(C=C1OC)CC(C)C(C)CC2=CC=C(O)C(OC)=C2  \n",
       "CCMSLIB00006056696          OC1=CC=C(C=C1OC)CC(C)C(C)CC2=CC=C(O)C(OC)=C2  "
      ]
     },
     "execution_count": 6,
     "metadata": {},
     "output_type": "execute_result"
    }
   ],
   "source": [
    "spectra_matches[0]"
   ]
  },
  {
   "cell_type": "markdown",
   "metadata": {},
   "source": [
    "# 3. Save results\n",
    "\n",
    "Execute the following cell to save the results in an Excel file. For readability, each dataframe is saved in its own csv file under the matches directory."
   ]
  },
  {
   "cell_type": "code",
   "execution_count": null,
   "metadata": {},
   "outputs": [],
   "source": [
    "import os\n",
    "os.makedirs(\"matches\", exist_ok=True)\n",
    "for i, spectrum_matches in enumerate(spectra_matches):\n",
    "    spectrum_matches.to_csv(f\"matches/spectrum_{i}.csv\")"
   ]
  },
  {
   "cell_type": "markdown",
   "metadata": {
    "id": "fxZC5erYIjIq"
   },
   "source": [
    "____"
   ]
  }
 ],
 "metadata": {
  "colab": {
   "collapsed_sections": [],
   "name": "Spec2Vec predictions API documentation.ipynb",
   "provenance": []
  },
  "kernelspec": {
   "display_name": "Python 3",
   "language": "python",
   "name": "python3"
  },
  "language_info": {
   "codemirror_mode": {
    "name": "ipython",
    "version": 3
   },
   "file_extension": ".py",
   "mimetype": "text/x-python",
   "name": "python",
   "nbconvert_exporter": "python",
   "pygments_lexer": "ipython3",
   "version": "3.8.8"
  }
 },
 "nbformat": 4,
 "nbformat_minor": 4
}
